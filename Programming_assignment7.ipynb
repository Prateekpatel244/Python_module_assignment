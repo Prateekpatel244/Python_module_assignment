{
 "cells": [
  {
   "cell_type": "markdown",
   "id": "169469d9",
   "metadata": {},
   "source": [
    "Q1.\tWrite a Python Program to find sum of array?"
   ]
  },
  {
   "cell_type": "code",
   "execution_count": 9,
   "id": "214f0d5b",
   "metadata": {},
   "outputs": [
    {
     "name": "stdout",
     "output_type": "stream",
     "text": [
      "sum of array is: 28\n"
     ]
    }
   ],
   "source": [
    "#sum of array\n",
    "#function to find sum of array\n",
    "def sum_array(l):\n",
    "    try:\n",
    "        #initialize a variable to calculate sum\n",
    "        sum_=0\n",
    "        for i in l:\n",
    "            sum_+=i\n",
    "        return sum_\n",
    "    except TypeError:\n",
    "        print('Type Error in input error')\n",
    "#taking a array \n",
    "a=[1,2,3,4,5,6,7]\n",
    "print('sum of array is:',sum_array(a))\n",
    "\n",
    "        \n",
    "    \n",
    "    "
   ]
  },
  {
   "cell_type": "markdown",
   "id": "4eba757f",
   "metadata": {},
   "source": [
    "Q2.\tWrite a Python Program to find largest element in an array?"
   ]
  },
  {
   "cell_type": "code",
   "execution_count": 14,
   "id": "022c9f54",
   "metadata": {},
   "outputs": [
    {
     "name": "stdout",
     "output_type": "stream",
     "text": [
      "largest element of array is: 698\n"
     ]
    }
   ],
   "source": [
    "#largest element of array\n",
    "#function to find largest element of array\n",
    "def max_array(l):\n",
    "    try:\n",
    "        #initialize a variable to find max element\n",
    "        large = l[0]\n",
    "        for i in l:\n",
    "            if large<i:\n",
    "                large=i\n",
    "        return large\n",
    "    except TypeError:\n",
    "        print('Type Error in input error')\n",
    "#taking a array \n",
    "a=[1,2,3,87,5,698,8]\n",
    "print('largest element of array is:',max_array(a))\n"
   ]
  },
  {
   "cell_type": "markdown",
   "id": "a58ac662",
   "metadata": {},
   "source": [
    "Q3.\tWrite a Python Program for array rotation?"
   ]
  },
  {
   "cell_type": "code",
   "execution_count": 8,
   "id": "9a0487bc",
   "metadata": {},
   "outputs": [
    {
     "name": "stdout",
     "output_type": "stream",
     "text": [
      "Enter number of element in array: 4\n",
      " enter 1 element of array: 3\n",
      " enter 2 element of array: 4\n",
      " enter 3 element of array: 3\n",
      " enter 4 element of array: \n",
      "\n",
      "Input Array is: ['3', '4', '3', ''] \n",
      "\n",
      "Enter number of step of roation: 1\n",
      "\n",
      "left roatation of array with 1 step is ['4', '3', '', '3'] \n",
      "\n",
      "Right roatation of array with 1 step is ['', '3', '4', '3']\n"
     ]
    }
   ],
   "source": [
    "#Array left roation\n",
    "def left_array_rot(l,n):\n",
    "    rot=[]\n",
    "    for i in range(len(l)):\n",
    "        if i<(len(l)-n):\n",
    "            rot.append(l[i+n])\n",
    "        else:\n",
    "            rot.append(l[(i+n)-len(l)])\n",
    "    return rot\n",
    "#array right rotion\n",
    "def right_array_rot(l,n):\n",
    "    rot=[]\n",
    "    for i in range(len(l)):\n",
    "        if i>=(n):\n",
    "            rot.append(l[i-n])\n",
    "        else:\n",
    "            rot.append(l[i-n])\n",
    "    return rot\n",
    "\n",
    "#input array for rotation\n",
    "n = int(input('Enter number of element in array: '))\n",
    "\n",
    "#initialize array for taking input\n",
    "arr=[]\n",
    "for i in range(n):\n",
    "    arr.append(input(f' enter {i+1} element of array: '))\n",
    "\n",
    "#print input array\n",
    "print(f\"\\nInput Array is: {arr} \\n\")\n",
    "#number of step rotation\n",
    "k = int(input('Enter number of step of roation: '))\n",
    "#calling and print the rotation function\n",
    "print(f'\\nleft roatation of array with {k} step is {left_array_rot(arr,k)} \\n')\n",
    "print(f'Right roatation of array with {k} step is {right_array_rot(arr,k)}')"
   ]
  },
  {
   "cell_type": "markdown",
   "id": "65acb86d",
   "metadata": {},
   "source": [
    "Q4.\tWrite a Python Program to Split the array and add the first part to the end?"
   ]
  },
  {
   "cell_type": "code",
   "execution_count": 7,
   "id": "924690a9",
   "metadata": {},
   "outputs": [
    {
     "name": "stdout",
     "output_type": "stream",
     "text": [
      "enter number of element in array8\n",
      "Enter position of array from where it split\n",
      "3\n",
      " enter 1 element of array: 4\n",
      " enter 2 element of array: 7\n",
      " enter 3 element of array: 8\n",
      " enter 4 element of array: 0\n",
      " enter 5 element of array: 1\n",
      " enter 6 element of array: 3\n",
      " enter 7 element of array: f\n",
      " enter 8 element of array: hg\n",
      "input array is : ['4', '7', '8', '0', '1', '3', 'f', 'hg']\n",
      "Final array is:  ['0', '1', '3', 'f', 'hg', '4', '7', '8']\n"
     ]
    }
   ],
   "source": [
    "#function to split the array and add the first part to end\n",
    "def split_array(l,n):\n",
    "    arry=[]\n",
    "    for i in range(len(l)):\n",
    "        if i<(len(l)-n):\n",
    "            arry.append(l[i+n])\n",
    "        else:\n",
    "            arry.append(l[i+n-len(l)])\n",
    "    return arry   # return final splited array\n",
    "#input the array\n",
    "array_in=[]\n",
    "num=int(input('enter number of element in array'))\n",
    "#position of split and it should less then lenth of array\n",
    "k= int(input('Enter position of array from where it split\\n'))\n",
    "for j in range(num):\n",
    "    array_in.append(input(f' enter {j+1} element of array: '))\n",
    "print(f'input array is : {array_in}')\n",
    "#print the final array \n",
    "print('Final array is: ',split_array(array_in,k))\n",
    "\n"
   ]
  },
  {
   "cell_type": "markdown",
   "id": "bb5e37f1",
   "metadata": {},
   "source": [
    "Q5.\tWrite a Python Program to check if given array is Monotonic?"
   ]
  },
  {
   "cell_type": "code",
   "execution_count": 15,
   "id": "dbc4574e",
   "metadata": {},
   "outputs": [
    {
     "name": "stdout",
     "output_type": "stream",
     "text": [
      "enter number of element in array5\n",
      " enter 1 element of array: 2\n",
      " enter 2 element of array: 4\n",
      " enter 3 element of array: 7\n",
      " enter 4 element of array: 9\n",
      " enter 5 element of array: 7\n",
      "input array is : ['2', '4', '7', '9', '7']\n",
      "\n",
      "Is input array is monotonic? False\n"
     ]
    }
   ],
   "source": [
    "# Program to check if given array is Monotonic\n",
    "#An array is monotonic in nature if it is either continuously increasing or continuously decreasing\n",
    "def monotonic_check(array):\n",
    "    #length of array\n",
    "    k=len(array)\n",
    "    return (all(array[i]>=array[i+1] for i in range(k-1)) or all(array[i]<=array[i+1] for i in range(k-1)))\n",
    "\n",
    "#input the array\n",
    "array_in=[]\n",
    "num=int(input('enter number of element in array'))\n",
    "for j in range(num):\n",
    "    array_in.append(input(f' enter {j+1} element of array: '))\n",
    "#print the input array\n",
    "print(f\"input array is : {array_in}\")\n",
    "\n",
    "#checking array is monotonic or not\n",
    "print(f'\\nIs input array is monotonic? {monotonic_check(array_in)}')\n",
    "\n"
   ]
  },
  {
   "cell_type": "markdown",
   "id": "04a1e2c8",
   "metadata": {},
   "source": []
  }
 ],
 "metadata": {
  "kernelspec": {
   "display_name": "Python 3 (ipykernel)",
   "language": "python",
   "name": "python3"
  },
  "language_info": {
   "codemirror_mode": {
    "name": "ipython",
    "version": 3
   },
   "file_extension": ".py",
   "mimetype": "text/x-python",
   "name": "python",
   "nbconvert_exporter": "python",
   "pygments_lexer": "ipython3",
   "version": "3.9.12"
  }
 },
 "nbformat": 4,
 "nbformat_minor": 5
}
