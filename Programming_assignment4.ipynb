{
 "cells": [
  {
   "cell_type": "markdown",
   "id": "ae1e178d",
   "metadata": {},
   "source": [
    "Q1.\tWrite a Python Program to Find the Factorial of a Number?"
   ]
  },
  {
   "cell_type": "code",
   "execution_count": 1,
   "id": "2af75a06",
   "metadata": {},
   "outputs": [
    {
     "name": "stdout",
     "output_type": "stream",
     "text": [
      "Enter a number whose factorial want to find \n",
      "4\n",
      "factorial of 4 is 24\n"
     ]
    }
   ],
   "source": [
    "#Program to Find the Factorial of a Number using function\n",
    "#Function\n",
    "def factorial():\n",
    "    #Docstring\n",
    "    \"\"\"factorial function is function to find out factorial of any non-negative integer\n",
    "    It take input of integer whose factorial you want to find out\"\"\"\n",
    "    n = int(input(\"Enter a number whose factorial want to find \\n\"))\n",
    "    if n>=0:\n",
    "        if n==0:\n",
    "            return \"factorial of {0} is {1}\".format(n,1)\n",
    "        else:\n",
    "            fact=1\n",
    "            for i in range(1,n+1):\n",
    "                fact=fact*i\n",
    "            return \"factorial of {0} is {1}\".format(n,fact)\n",
    "        \n",
    "    else:\n",
    "        return \"Factorial of negative number doesn't exist\"\n",
    "    \n",
    "#call the factorial function\n",
    "print(factorial())\n"
   ]
  },
  {
   "cell_type": "markdown",
   "id": "46a676dc",
   "metadata": {},
   "source": [
    "Q2.\tWrite a Python Program to Display the multiplication Table?"
   ]
  },
  {
   "cell_type": "code",
   "execution_count": 2,
   "id": "7042ec30",
   "metadata": {},
   "outputs": [
    {
     "name": "stdout",
     "output_type": "stream",
     "text": [
      "Enter a integer number\n",
      "22\n",
      "Multiplication table of 22 is given below:\n",
      "\n",
      "22 x 1 = 22\n",
      "\n",
      "22 x 2 = 44\n",
      "\n",
      "22 x 3 = 66\n",
      "\n",
      "22 x 4 = 88\n",
      "\n",
      "22 x 5 = 110\n",
      "\n",
      "22 x 6 = 132\n",
      "\n",
      "22 x 7 = 154\n",
      "\n",
      "22 x 8 = 176\n",
      "\n",
      "22 x 9 = 198\n",
      "\n",
      "22 x 10 = 220\n",
      "\n"
     ]
    }
   ],
   "source": [
    "#Program to Display the multiplication Table\n",
    "num = int(input('Enter a integer number\\n'))                           #take input\n",
    "print('Multiplication table of {} is given below:\\n'.format(num))      #print first line statement\n",
    "mult=1\n",
    "for i in range(1,11,1):\n",
    "    mult = i*num\n",
    "    print('{0} x {1} = {2}\\n'.format(num,i,mult))"
   ]
  },
  {
   "cell_type": "markdown",
   "id": "1cbdacbe",
   "metadata": {},
   "source": [
    "Q3.\tWrite a Python Program to Print the Fibonacci sequence?"
   ]
  },
  {
   "cell_type": "code",
   "execution_count": 3,
   "id": "dc340c98",
   "metadata": {},
   "outputs": [
    {
     "name": "stdout",
     "output_type": "stream",
     "text": [
      "Input number of terms which are you want to print\n",
      "2\n",
      "Fibonacci sequence of 2 term is :\n",
      "\n",
      "0 , 1\n"
     ]
    }
   ],
   "source": [
    "# Program to Print the Fibonacci sequence\n",
    "# input for number of terms of fibonacci sequence\n",
    "term = int(input('Input number of terms which are you want to print\\n'))\n",
    "a=0\n",
    "b=1\n",
    "if term<=0:     # check input is coreect or not\n",
    "    print(\"Input is not correct\")\n",
    "else:\n",
    "    print(\"Fibonacci sequence of {} term is :\\n\".format(term))\n",
    "    if term==1:\n",
    "        print(a)\n",
    "    elif term == 2:         #term is 2\n",
    "        print(a ,\",\", b)\n",
    "    else:\n",
    "        print(a ,\",\", b,end = \" , \")\n",
    "        for i in range(2,term,1):\n",
    "            sum = a+b                 #find the sum of previous two number of sequence\n",
    "            print(sum,end=\" , \")       #print Fibonacci sequence\n",
    "            a=b\n",
    "            b=sum"
   ]
  },
  {
   "cell_type": "markdown",
   "id": "dddcbf39",
   "metadata": {},
   "source": [
    "Q4.\tWrite a Python Program to Check Armstrong Number?"
   ]
  },
  {
   "cell_type": "code",
   "execution_count": 4,
   "id": "15c6d225",
   "metadata": {},
   "outputs": [
    {
     "name": "stdout",
     "output_type": "stream",
     "text": [
      "Input an integer value:\n",
      "5\n"
     ]
    },
    {
     "data": {
      "text/plain": [
       "'The given number 5 is armstrong number'"
      ]
     },
     "execution_count": 4,
     "metadata": {},
     "output_type": "execute_result"
    }
   ],
   "source": [
    "#Program to Check Armstrong number\n",
    "#write a function to check armstrong\n",
    "def Armstrong(n):\n",
    "    order = len(str(n))         # check order of integer\n",
    "    sum = 0 \n",
    "    temp = n\n",
    "    while(n>0):\n",
    "        x = n % 10              #find digit of integer\n",
    "        sum = sum + x ** order\n",
    "        n = n // 10\n",
    "    \n",
    "    if sum == temp:              #check armstrong condition\n",
    "        return \"The given number {} is armstrong number\".format(temp)\n",
    "    else:\n",
    "        return \"The given number {} is not armstrong number\".format(temp)\n",
    "\n",
    "num = int(input(\"Input an integer value:\\n\"))\n",
    "#calling armstrong function\n",
    "Armstrong(num)\n",
    "\n",
    "    \n",
    "    \n"
   ]
  },
  {
   "cell_type": "markdown",
   "id": "2d888405",
   "metadata": {},
   "source": [
    "Q5.\tWrite a Python Program to Find Armstrong Number in an Interval?"
   ]
  },
  {
   "cell_type": "code",
   "execution_count": 5,
   "id": "a44e5abe",
   "metadata": {},
   "outputs": [
    {
     "name": "stdout",
     "output_type": "stream",
     "text": [
      "Input minimum limit of interval :\n",
      "2\n",
      "Input maximum limit of interval :\n",
      "555\n",
      "Armstrong Number in an Interval [ 2-555] :\n",
      "\n",
      "2 , 3 , 4 , 5 , 6 , 7 , 8 , 9 , 153 , 370 , 371 , 407 , "
     ]
    }
   ],
   "source": [
    "#Python Program to Find Armstrong Number in an Interval\n",
    "#function of armstrong number\n",
    "def Armstrong(n):\n",
    "    order = len(str(n))         # check order of integer\n",
    "    sum = 0 \n",
    "    temp = n\n",
    "    while(n>0):\n",
    "        x = n % 10              #find digit of integer\n",
    "        sum = sum + x ** order\n",
    "        n = n // 10\n",
    "    \n",
    "    if sum == temp:              #check armstrong condition\n",
    "        print(temp,end=\" , \")\n",
    "\n",
    "\n",
    "#take input of interval\n",
    "min_=int(input(\"Input minimum limit of interval :\\n\"))\n",
    "max_=int(input(\"Input maximum limit of interval :\\n\"))\n",
    "print('Armstrong Number in an Interval [ {0}-{1}] :\\n'.format(min_,max_))\n",
    "for i in range(min_,max_+1,1):\n",
    "    Armstrong(i)\n",
    "    \n",
    "    \n"
   ]
  },
  {
   "cell_type": "markdown",
   "id": "e608b3f6",
   "metadata": {},
   "source": [
    "Q6.\tWrite a Python Program to Find the Sum of Natural Numbers?"
   ]
  },
  {
   "cell_type": "code",
   "execution_count": 6,
   "id": "46d8f321",
   "metadata": {},
   "outputs": [
    {
     "name": "stdout",
     "output_type": "stream",
     "text": [
      "Enter number of  terms of natural number\n",
      "55\n",
      "The sum of first 55 term of natural number is 1540 \n"
     ]
    }
   ],
   "source": [
    "#Program to Find the Sum of Natural Numbers?\n",
    "term = int(input(\"Enter number of  terms of natural number\\n\"))       #number of terms which are you want to sum\n",
    "sum_=0   #initial value\n",
    "for i in range(1,(term+1),1):\n",
    "    sum_= sum_+i\n",
    "    \n",
    "print('The sum of first {0} term of natural number is {1} '.format(term,sum_))"
   ]
  },
  {
   "cell_type": "code",
   "execution_count": null,
   "id": "e6d018cc",
   "metadata": {},
   "outputs": [],
   "source": []
  }
 ],
 "metadata": {
  "kernelspec": {
   "display_name": "Python 3 (ipykernel)",
   "language": "python",
   "name": "python3"
  },
  "language_info": {
   "codemirror_mode": {
    "name": "ipython",
    "version": 3
   },
   "file_extension": ".py",
   "mimetype": "text/x-python",
   "name": "python",
   "nbconvert_exporter": "python",
   "pygments_lexer": "ipython3",
   "version": "3.9.12"
  }
 },
 "nbformat": 4,
 "nbformat_minor": 5
}
