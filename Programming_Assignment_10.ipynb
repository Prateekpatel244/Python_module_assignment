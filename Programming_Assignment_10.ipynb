{
 "cells": [
  {
   "cell_type": "markdown",
   "id": "e58fa387",
   "metadata": {},
   "source": [
    "Q1. Write a Python program to find sum of elements in list?"
   ]
  },
  {
   "cell_type": "code",
   "execution_count": 12,
   "id": "2f919111",
   "metadata": {},
   "outputs": [
    {
     "name": "stdout",
     "output_type": "stream",
     "text": [
      "sum of all element of list :  142\n"
     ]
    }
   ],
   "source": [
    "#program to find sum of elements in list\n",
    "def list_sum(l):\n",
    "    '''Function to calculate sum of element of list'''\n",
    "    #initial variable to calculate sum\n",
    "    summation = 0\n",
    "    for i in l:\n",
    "        summation += i\n",
    "        \n",
    "    return summation\n",
    "\n",
    "try:\n",
    "    #input list to calculate sum of element\n",
    "    x = [1,2,34,5,6,76,7,8,3]\n",
    "    #input list can be also taken as user input\n",
    "    # n =int(input('input length of list'))\n",
    "    #x=[]\n",
    "    #for i in len(n):\n",
    "         #x.append(input('enter list element'))\n",
    "    \n",
    "    print('sum of all element of list : ' ,list_sum(x))\n",
    "except Exception as e:\n",
    "    print('Error!',e)\n",
    "        "
   ]
  },
  {
   "cell_type": "markdown",
   "id": "9012d03e",
   "metadata": {},
   "source": [
    "Q2. Write a Python program to Multiply all numbers in the list?"
   ]
  },
  {
   "cell_type": "code",
   "execution_count": 13,
   "id": "81dd15c9",
   "metadata": {},
   "outputs": [
    {
     "name": "stdout",
     "output_type": "stream",
     "text": [
      "multiply of all element of list :  1787520\n"
     ]
    }
   ],
   "source": [
    "#program to Multiply all numbers in the list\n",
    "def list_mult(l):\n",
    "    ''' Funtion to calculate multiply of all numbers in list'''\n",
    "    #initial varaible \n",
    "    mult = 1\n",
    "    for i in l:\n",
    "        mult = mult*i\n",
    "    return mult\n",
    "\n",
    "try:\n",
    "    #input list to calculate sum of element\n",
    "    x = [1,2,35,76,7,8,6]\n",
    "    #input list can be also taken as user input\n",
    "    # n =int(input('input length of list'))\n",
    "    #x=[]\n",
    "    #for i in len(n):\n",
    "         #x.append(input('enter list element'))\n",
    "    print('multiply of all element of list : ' ,list_mult(x))\n",
    "except Exception as e:\n",
    "    print('Error!',e)"
   ]
  },
  {
   "cell_type": "markdown",
   "id": "0a0b6973",
   "metadata": {},
   "source": [
    "Q3. Write a Python program to find smallest number in a list?"
   ]
  },
  {
   "cell_type": "code",
   "execution_count": 17,
   "id": "f36991f8",
   "metadata": {},
   "outputs": [
    {
     "name": "stdout",
     "output_type": "stream",
     "text": [
      "smallest number in all element of list :  2\n"
     ]
    }
   ],
   "source": [
    "#program to find smallest number in a list\n",
    "try:\n",
    "    #input list to calculate sum of element\n",
    "    x = [5,2,35,76,7,8,6]\n",
    "    #input list can be also taken as user input\n",
    "    # n =int(input('input length of list'))\n",
    "    #x=[]\n",
    "    #for i in len(n):\n",
    "         #x.append(input('enter list element'))\n",
    "    print('smallest number in all element of list : ' ,min(x))\n",
    "except Exception as e:\n",
    "    print('Error!',e)"
   ]
  },
  {
   "cell_type": "markdown",
   "id": "9f2b82cc",
   "metadata": {},
   "source": [
    "Q4. Write a Python program to find largest number in a list?"
   ]
  },
  {
   "cell_type": "code",
   "execution_count": 18,
   "id": "dbbc5b36",
   "metadata": {},
   "outputs": [
    {
     "name": "stdout",
     "output_type": "stream",
     "text": [
      "largest number in all element of list :  76\n"
     ]
    }
   ],
   "source": [
    "#program to find largest number in a list\n",
    "try:\n",
    "    #input list to calculate sum of element\n",
    "    x = [5,2,35,76,7,8,6]\n",
    "    #input list can be also taken as user input\n",
    "    # n =int(input('input length of list'))\n",
    "    #x=[]\n",
    "    #for i in len(n):\n",
    "        #x.append(input('enter list element'))\n",
    "    print('largest number in all element of list : ' ,max(x))\n",
    "except Exception as e:\n",
    "    print('Error!',e)"
   ]
  },
  {
   "cell_type": "markdown",
   "id": "934aefc1",
   "metadata": {},
   "source": [
    "Q5. Write a Python program to find second largest number in a list?\n"
   ]
  },
  {
   "cell_type": "code",
   "execution_count": 50,
   "id": "7f8def85",
   "metadata": {},
   "outputs": [
    {
     "name": "stdout",
     "output_type": "stream",
     "text": [
      "second largest number in all element of list :  46\n"
     ]
    }
   ],
   "source": [
    "#program to find second largest number in a list\n",
    "def second_max(l):\n",
    "    '''Function to calculate second largest number in a list'''\n",
    "    max_ele = max(l)\n",
    "    l.sort(reverse=True)\n",
    "    for i in range(1,len(l)):\n",
    "        if max_ele != l[i]:\n",
    "            return l[i]\n",
    "        else:\n",
    "            continue\n",
    "try:\n",
    "    #input list to calculate sum of element\n",
    "    x = [1,2,35,76,7,8,46]\n",
    "    #input list can be also taken as user input\n",
    "    # n =int(input('input length of list'))\n",
    "    #x=[]\n",
    "    #for i in len(n):\n",
    "         #x.append(input('enter list element'))\n",
    "    print('second largest number in all element of list : ' ,second_max(x))\n",
    "except Exception as e:\n",
    "    print('Error!',e)\n",
    "             "
   ]
  },
  {
   "cell_type": "markdown",
   "id": "c9bbf56d",
   "metadata": {},
   "source": [
    "Q6. Write a Python program to find N largest elements from a list?"
   ]
  },
  {
   "cell_type": "code",
   "execution_count": 51,
   "id": "3ce238b3",
   "metadata": {},
   "outputs": [
    {
     "name": "stdout",
     "output_type": "stream",
     "text": [
      "enter value of N : 3\n",
      "N largest number in all element of list :  [76, 46, 35]\n"
     ]
    }
   ],
   "source": [
    "#program to find N largest elements from a list\n",
    "def list_n_largest(l,a):\n",
    "    '''Function to calculate list of N largest number in a list'''\n",
    "    l.sort(reverse=True)\n",
    "    larg_list=[]\n",
    "    for i in range(a):\n",
    "        larg_list.append(l[i])\n",
    "        \n",
    "    return larg_list\n",
    "try:\n",
    "    #input list to calculate sum of element\n",
    "    x = [1,2,35,76,7,8,46]\n",
    "    #input list can be also taken as user input\n",
    "    # n =int(input('input length of list'))\n",
    "    #x=[]\n",
    "    #for i in len(n):\n",
    "         #x.append(input('enter list element'))\n",
    "    #N is number of max element in list\n",
    "    N = int(input('enter value of N : '))\n",
    "    if N > len(x):\n",
    "        print('Input value of N is not correct')\n",
    "    else:\n",
    "        print('N largest number in all element of list : ' ,list_n_largest(x,N))\n",
    "except Exception as e:\n",
    "    print('Error!',e)\n",
    "             \n"
   ]
  },
  {
   "cell_type": "markdown",
   "id": "0073ae3a",
   "metadata": {},
   "source": [
    "Q7. Write a Python program to print even numbers in a list?"
   ]
  },
  {
   "cell_type": "code",
   "execution_count": 4,
   "id": "0f2edb72",
   "metadata": {},
   "outputs": [
    {
     "name": "stdout",
     "output_type": "stream",
     "text": [
      "list of even number in all element of list :  [2, 76, 8, 46]\n"
     ]
    }
   ],
   "source": [
    "#Python program to print even numbers in a list\n",
    "def list_even(l):\n",
    "    '''Function to calculate list of even number in a list'''\n",
    "    even_list=[]\n",
    "    for i in l:\n",
    "        if (i % 2)== 0:\n",
    "            even_list.append(i)\n",
    "    return even_list\n",
    "try:\n",
    "    #input list to calculate sum of element\n",
    "    x = [1,2,35,76,7,8,46]\n",
    "    #input list can be also taken as user input\n",
    "    # n =int(input('input length of list'))\n",
    "    #x=[]\n",
    "    #for i in len(n):\n",
    "         #x.append(input('enter list element'))\n",
    "    print('list of even number in all element of list : ' ,list_even(x))\n",
    "except Exception as e:\n",
    "    print('Error!',e)\n",
    "             \n",
    "        "
   ]
  },
  {
   "cell_type": "markdown",
   "id": "e70c4294",
   "metadata": {},
   "source": [
    "Q8. Write a Python program to print odd numbers in a list?"
   ]
  },
  {
   "cell_type": "code",
   "execution_count": 53,
   "id": "50c6ea5b",
   "metadata": {},
   "outputs": [
    {
     "name": "stdout",
     "output_type": "stream",
     "text": [
      "list of odd number in all element of list :  [1, 35, 7]\n"
     ]
    }
   ],
   "source": [
    "#program to print odd numbers in a List\n",
    "def list_odd(l):\n",
    "    '''Function to calculate list of odd number in a list'''\n",
    "    odd_list=[]\n",
    "    for i in l:\n",
    "        if (i % 2)!= 0:\n",
    "            odd_list.append(i)\n",
    "    return odd_list\n",
    "try:\n",
    "    #input list to calculate sum of element\n",
    "    x = [1,2,35,76,7,8,46]\n",
    "    #input list can be also taken as user input\n",
    "    # n =int(input('input length of list'))\n",
    "    #x=[]\n",
    "    #for i in len(n):\n",
    "         #x.append(input('enter list element'))\n",
    "    print('list of odd number in all element of list : ' ,list_odd(x))\n",
    "except Exception as e:\n",
    "    print('Error!',e)"
   ]
  },
  {
   "cell_type": "markdown",
   "id": "9de57b87",
   "metadata": {},
   "source": [
    "Q9. Write a Python program to Remove empty List from List?"
   ]
  },
  {
   "cell_type": "code",
   "execution_count": 89,
   "id": "7a7add5c",
   "metadata": {},
   "outputs": [
    {
     "name": "stdout",
     "output_type": "stream",
     "text": [
      "Final list after removal of empty list :  [2, 4, 6, [4, 7], 3, 4, [2, 4, 6, 7]]\n"
     ]
    }
   ],
   "source": [
    "#program to Remove empty List from List\n",
    "def empty_list(l):\n",
    "    '''Function to remove empty list from a given list'''\n",
    "    #temprary variable for iteration through whole element\n",
    "    temp = l.copy()\n",
    "    for i in temp:\n",
    "        #check element is list type or not\n",
    "        if type(i) == list:\n",
    "            #check list is empty\n",
    "            if len(i) == 0:\n",
    "                l.remove(i)\n",
    "            else:\n",
    "                #if list is not empty then check nested list element\n",
    "                j = empty_list(i)\n",
    "                if j != i:\n",
    "                    k=l.index(i)\n",
    "                    l[k] = j\n",
    "                             \n",
    "    return l\n",
    "try:\n",
    "    #input list to calculate sum of element\n",
    "    x = [2,[],[],4,6,[4,7,[]],[],3,4,[],[2,4,6,7]]\n",
    "    #input list can be also taken as user input\n",
    "    # n =int(input('input length of list'))\n",
    "    #x=[]\n",
    "    #for i in len(n):\n",
    "         #x.append(input('enter list element'))\n",
    "    print('Final list after removal of empty list : ' ,empty_list(x))\n",
    "except Exception as e:\n",
    "    print('Error!',e)"
   ]
  },
  {
   "cell_type": "markdown",
   "id": "a34cbc05",
   "metadata": {},
   "source": [
    "Q10. Write a Python program to Cloning or Copying a list?"
   ]
  },
  {
   "cell_type": "code",
   "execution_count": 2,
   "id": "899cb281",
   "metadata": {},
   "outputs": [
    {
     "name": "stdout",
     "output_type": "stream",
     "text": [
      "Original list is : [5, 33, 56, 76, 'efg', (3+6j)]\n",
      "final copied list  :  [5, 33, 56, 76, 'efg', (3+6j)]\n"
     ]
    }
   ],
   "source": [
    "#program to Cloning or Copying a list\n",
    "def copy(l):\n",
    "    copy_list= []\n",
    "    for i in l:\n",
    "        copy_list.append(i)\n",
    "    return copy_list\n",
    "try:\n",
    "    #input list to calculate sum of element\n",
    "    x = [5,33,56,76,'efg',3+6j]\n",
    "    #input list can be also taken as user input\n",
    "    # n =int(input('input length of list'))\n",
    "    #x=[]\n",
    "    #for i in len(n):\n",
    "         #x.append(input('enter list element'))\n",
    "    print('Original list is :',x)\n",
    "    print('final copied list  : ' ,copy(x))\n",
    "except Exception as e:\n",
    "    print('Error!',e)\n"
   ]
  },
  {
   "cell_type": "markdown",
   "id": "6b3fd6b4",
   "metadata": {},
   "source": [
    "Q11. Write a Python program to Count occurrences of an element in a list?"
   ]
  },
  {
   "cell_type": "code",
   "execution_count": 1,
   "id": "f3e5b0bd",
   "metadata": {},
   "outputs": [
    {
     "name": "stdout",
     "output_type": "stream",
     "text": [
      "Input a element which you want to check occurrence : 2\n",
      "Final list after removal of empty list :  2\n"
     ]
    }
   ],
   "source": [
    "#program to Count occurrences of an element in a list\n",
    "def occurrences_count(l,x):\n",
    "    ''' Fuction to Count occurrences of an element in a list.\n",
    "        it takes two arguments one is list and other element which you want to check'''\n",
    "    count = 0\n",
    "    for i in l:\n",
    "        if type(i) == int:\n",
    "            if int(x)==i:\n",
    "                count+=1\n",
    "        else:\n",
    "            if x == i:\n",
    "                count+=1\n",
    "    \n",
    "    return count\n",
    "try:\n",
    "    #input list to calculate sum of element\n",
    "    a = [1,2,3,45,56,6,2,6,3,3,3]\n",
    "    #input list can be also taken as user input\n",
    "    # n =int(input('input length of list'))\n",
    "    #x=[]\n",
    "    #for i in len(n):\n",
    "         #x.append(input('enter list element'))\n",
    "    n = input('Input a element which you want to check occurrence : ')\n",
    "    print('Final list after removal of empty list : ' ,occurrences_count(a,n))\n",
    "except Exception as e:\n",
    "    print('Error!',e)"
   ]
  },
  {
   "cell_type": "code",
   "execution_count": null,
   "id": "d1971d96",
   "metadata": {},
   "outputs": [],
   "source": []
  }
 ],
 "metadata": {
  "kernelspec": {
   "display_name": "Python 3 (ipykernel)",
   "language": "python",
   "name": "python3"
  },
  "language_info": {
   "codemirror_mode": {
    "name": "ipython",
    "version": 3
   },
   "file_extension": ".py",
   "mimetype": "text/x-python",
   "name": "python",
   "nbconvert_exporter": "python",
   "pygments_lexer": "ipython3",
   "version": "3.9.12"
  }
 },
 "nbformat": 4,
 "nbformat_minor": 5
}
