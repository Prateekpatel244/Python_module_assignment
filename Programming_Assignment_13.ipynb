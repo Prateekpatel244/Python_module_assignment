{
 "cells": [
  {
   "cell_type": "markdown",
   "id": "2ee95264",
   "metadata": {},
   "source": [
    "Question 1: Write a program that calculates and prints the value according to the given formula:\n",
    "\n",
    "Q = Square root of [(2 * C * D)/H]\n",
    "Following are the fixed values of C and H:\n",
    "C is 50. H is 30.\n",
    "D is the variable whose values should be input to your program in a comma-separated sequence.\n",
    "Example-\n",
    "Let us assume the following comma separated input sequence is given to the program:\n",
    "100,150,180\n",
    "\n",
    "The output of the program should be:\n",
    "18,22,24\n"
   ]
  },
  {
   "cell_type": "code",
   "execution_count": 34,
   "id": "29eb7c6d",
   "metadata": {},
   "outputs": [
    {
     "name": "stdout",
     "output_type": "stream",
     "text": [
      "Input D values in comma seperated sequence100,150,180\n",
      "18.257418583505537\n",
      "22.360679774997898\n",
      "24.49489742783178\n"
     ]
    }
   ],
   "source": [
    "#function to clculate Q value\n",
    "import math\n",
    "def formula_cal(lis):\n",
    "    #define fixed values\n",
    "    C = 50\n",
    "    H = 30\n",
    "    #Calculate Q value using this  [(2 * C * D)/H] for each input value\n",
    "    for D in lis :\n",
    "        Q = math.sqrt((2*C*int(D))/H)\n",
    "        yield Q\n",
    "#take input for value of D in comma seperated sequence\n",
    "X = input('Input D values in comma seperated sequence')\n",
    "X_list = X.split(',')\n",
    "# input to function in a comma-separated sequence\n",
    "for Q in formula_cal(X_list):\n",
    "    print(Q)\n"
   ]
  },
  {
   "cell_type": "markdown",
   "id": "8bcf9e78",
   "metadata": {},
   "source": [
    "Question 2:\n",
    "Write a program which takes 2 digits, X,Y as input and generates a 2-dimensional array. The element value in the i-th row and j-th column of the array should be i*j.\n",
    "Note: i=0,1.., X-1; j=0,1,...,Y-1.\n",
    "\n",
    "Example\n",
    "Suppose the following inputs are given to the program:\n",
    "3,5\n",
    "Then, the output of the program should be:\n",
    "[[0, 0, 0, 0, 0], [0, 1, 2, 3, 4], [0, 2, 4, 6, 8]] \n"
   ]
  },
  {
   "cell_type": "code",
   "execution_count": 36,
   "id": "72b61653",
   "metadata": {},
   "outputs": [
    {
     "name": "stdout",
     "output_type": "stream",
     "text": [
      "Enter number of rows of 2-D array 3\n",
      "Enter number of Column of 2_D array 5\n",
      "2-Dimenssional array is :  [[0, 0, 0, 0, 0], [0, 1, 2, 3, 4], [0, 2, 4, 6, 8]]\n"
     ]
    }
   ],
   "source": [
    "#funtion of creating 2-D array as return\n",
    "#X,Y are gize shape of aaray\n",
    "def array(X,Y):\n",
    "    #intialize a empty list to store array\n",
    "    array = []\n",
    "    for i in range(X):\n",
    "        #row variavle store row one by one\n",
    "        row = []\n",
    "        for j in range(Y):\n",
    "            \n",
    "            row.append(i*j)\n",
    "        #storing row into array which given by inner loop\n",
    "        array.append(row)\n",
    "    return array\n",
    "\n",
    "#taking input of X,Y for defining dimenssion\n",
    "Row = int(input('Enter number of rows of 2-D array '))\n",
    "Col = int(input('Enter number of Column of 2_D array '))\n",
    "#calling the function\n",
    "print('2-Dimenssional array is : ',array(Row,Col))\n",
    "            \n",
    "    \n"
   ]
  },
  {
   "cell_type": "markdown",
   "id": "7b05a8b1",
   "metadata": {},
   "source": [
    "Question 3:\n",
    "Write a program that accepts a comma separated sequence of words as input and prints the words in a comma-separated sequence after sorting them alphabetically.\n",
    "Suppose the following input is supplied to the program:\n",
    "without,hello,bag,world\n",
    "Then, the output should be:\n",
    "bag,hello,without,world\n"
   ]
  },
  {
   "cell_type": "code",
   "execution_count": 2,
   "id": "5e14b083",
   "metadata": {},
   "outputs": [
    {
     "name": "stdout",
     "output_type": "stream",
     "text": [
      "Input a comma seperated sequence of words : without,hello,bag,world\n",
      "bag,hello,without,world,\n"
     ]
    }
   ],
   "source": [
    "#taking input of string\n",
    "string = input('Input a comma seperated sequence of words : ')\n",
    "#split the string into list as delimeter ,\n",
    "l = string.split(',')\n",
    "l.sort()\n",
    "sorted_string =''\n",
    "for i in l:\n",
    "    sorted_string = sorted_string + i +','\n",
    "print(sorted_string)"
   ]
  },
  {
   "cell_type": "markdown",
   "id": "38e6b7ef",
   "metadata": {},
   "source": [
    "Question 4:\n",
    "Write a program that accepts a sequence of whitespace separated words as input and prints the words after removing all duplicate words and sorting them alphanumerically.\n",
    "Suppose the following input is supplied to the program:\n",
    "hello world and practice makes perfect and hello world again\n",
    "\n",
    "Then, the output should be:\n",
    "again and hello makes perfect practice world\n"
   ]
  },
  {
   "cell_type": "code",
   "execution_count": 4,
   "id": "8d705c31",
   "metadata": {},
   "outputs": [
    {
     "name": "stdout",
     "output_type": "stream",
     "text": [
      "Input sequence of whitespace separated words : hello world and practice makes perfect and hello world again\n",
      "\n",
      "Duplicate free , sorted sequence of words is given below :\n",
      "again and hello makes perfect practice world "
     ]
    }
   ],
   "source": [
    "#program that accepts a sequence of whitespace separated words as input \n",
    "#prints the words after removing all duplicate words and sorting them alphanumerically\n",
    "x = input('Input sequence of whitespace separated words : ' )\n",
    "#splited sequence of words into list\n",
    "l = x.split(' ')\n",
    "#initialize a list to store words without duplicate them\n",
    "duplicate_free = []\n",
    "for i in l:\n",
    "    if i not in duplicate_free:\n",
    "        duplicate_free.append(i)\n",
    "        \n",
    "#sort the Duplicate free list\n",
    "duplicate_free.sort()\n",
    "#print sorted , duplicate free list of words\n",
    "print('\\nDuplicate free , sorted sequence of words is given below :')\n",
    "for j in duplicate_free:\n",
    "    print(j,end=' ')\n",
    "    "
   ]
  },
  {
   "cell_type": "markdown",
   "id": "44ab9ebc",
   "metadata": {},
   "source": [
    "Question 5:\n",
    "Write a program that accepts a sentence and calculate the number of letters and digits.\n",
    "Suppose the following input is supplied to the program:\n",
    "hello world! 123\n",
    "Then, the output should be:\n",
    "\n",
    "LETTERS 10\n",
    "\n",
    "DIGITS 3\n"
   ]
  },
  {
   "cell_type": "code",
   "execution_count": 12,
   "id": "3097bd09",
   "metadata": {},
   "outputs": [
    {
     "name": "stdout",
     "output_type": "stream",
     "text": [
      "Input a Sentence :\n",
      "hello world! 123\n",
      "LETTERS 10\n",
      "DIGITS 3\n"
     ]
    }
   ],
   "source": [
    "#calculate number of latters and digits in sentence\n",
    "#taking user input of sentence\n",
    "Sentence = input('Input a Sentence :\\n')\n",
    "#intialize variable to count Letters and digits\n",
    "letters = 0\n",
    "digits = 0\n",
    "#loop for iterate through sentence:\n",
    "for i in Sentence:\n",
    "    #checking character is letter or digit\n",
    "    if i.isalpha():\n",
    "        letters += 1\n",
    "    elif i.isnumeric() :\n",
    "        digits += 1\n",
    "#print the vlaue of letters and digits present in sentence\n",
    "print(f'LETTERS {letters}')\n",
    "print(f'DIGITS {digits}')\n"
   ]
  },
  {
   "cell_type": "markdown",
   "id": "b42b7160",
   "metadata": {},
   "source": [
    "Question 6:\n",
    "A website requires the users to input username and password to register. Write a program to check the validity of password input by users.\n",
    "Following are the criteria for checking the password:\n",
    "1. At least 1 letter between [a-z]\n",
    "\n",
    "2. At least 1 number between [0-9]\n",
    "\n",
    "1. At least 1 letter between [A-Z]\n",
    "\n",
    "3. At least 1 character from [$#@]\n",
    "\n",
    "4. Minimum length of transaction password: 6\n",
    "\n",
    "5. Maximum length of transaction password: 12\n",
    "\n",
    "Your program should accept a sequence of comma separated passwords and will check them according to the above criteria. Passwords that match the criteria are to be printed, each separated by a comma.\n",
    "Example\n",
    "If the following passwords are given as input to the program:\n",
    "ABd1234@1,a F1#,2w3E*,2We3345\n",
    "\n",
    "Then, the output of the program should be:\n",
    "ABd1234@1\n"
   ]
  },
  {
   "cell_type": "code",
   "execution_count": 31,
   "id": "ee44cb15",
   "metadata": {},
   "outputs": [
    {
     "name": "stdout",
     "output_type": "stream",
     "text": [
      "Enter sequence of password : ABd1234@1,a F1#,2w3E*,2We3345,Prtk@8865\n",
      "The passwords which are satisfied given condition  :  ABd1234@1 , Prtk@8865 , "
     ]
    }
   ],
   "source": [
    "#take input of password sequence\n",
    "passw = input('Enter sequence of password : ')\n",
    "#creating list of password for differentiating each password\n",
    "passw_list = passw.split(\",\")\n",
    "#creating list to store valid password\n",
    "valid_pass = []\n",
    "for password in passw_list:\n",
    "    #creating variable to count different different type charcter in password\n",
    "    alph = 0\n",
    "    num = 0\n",
    "    upp_alph = 0\n",
    "    spec_ch = 0\n",
    "    special_character = '@$#'\n",
    "    min_lenghth = 6\n",
    "    max_length =12\n",
    "    #this loop for calculating all different type of character\n",
    "    for i in password:\n",
    "        if i.islower():\n",
    "            alph += 1\n",
    "        elif i.isupper():\n",
    "            upp_alph +=1\n",
    "        elif i.isnumeric():\n",
    "            num +=1\n",
    "        elif i in special_character:\n",
    "            spec_ch +=1\n",
    "    # now checking condition for valid password\n",
    "    if alph>=1 and num>=1 and upp_alph>=1 and spec_ch>=1 and len(password)>=6 and len(password)<=12:\n",
    "        valid_pass.append(password)\n",
    "\n",
    "#print valid password which satisfied given condition\n",
    "print('The passwords which are satisfied given condition  : ', end =' ')\n",
    "for k in valid_pass:\n",
    "    print(k,end =' , ')\n",
    "\n",
    "\n",
    "\n",
    "\n"
   ]
  },
  {
   "cell_type": "code",
   "execution_count": null,
   "id": "0c8cb460",
   "metadata": {},
   "outputs": [],
   "source": []
  },
  {
   "cell_type": "code",
   "execution_count": null,
   "id": "cc3f830c",
   "metadata": {},
   "outputs": [],
   "source": []
  }
 ],
 "metadata": {
  "kernelspec": {
   "display_name": "Python 3 (ipykernel)",
   "language": "python",
   "name": "python3"
  },
  "language_info": {
   "codemirror_mode": {
    "name": "ipython",
    "version": 3
   },
   "file_extension": ".py",
   "mimetype": "text/x-python",
   "name": "python",
   "nbconvert_exporter": "python",
   "pygments_lexer": "ipython3",
   "version": "3.9.12"
  }
 },
 "nbformat": 4,
 "nbformat_minor": 5
}
