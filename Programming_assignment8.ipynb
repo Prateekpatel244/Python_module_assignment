{
 "cells": [
  {
   "cell_type": "markdown",
   "id": "744bf7ee",
   "metadata": {},
   "source": [
    "Q1.\tWrite a Python Program to Add Two Matrices?"
   ]
  },
  {
   "cell_type": "code",
   "execution_count": 41,
   "id": "8f9a1bc7",
   "metadata": {},
   "outputs": [
    {
     "name": "stdout",
     "output_type": "stream",
     "text": [
      "input number of rows of matrix 2\n",
      "input number of column of matrix 2\n",
      "input element of matrix A\n",
      "Enter 11 element of matrix: 2\n",
      "Enter 12 element of matrix: 3\n",
      "Enter 21 element of matrix: 4\n",
      "Enter 22 element of matrix: 5\n",
      "\n",
      "Matrix [A] is :\n",
      "2\t3\t\n",
      "4\t5\t\n",
      "input element of matrix B\n",
      "Enter 11 element of matrix: 2\n",
      "Enter 12 element of matrix: 6\n",
      "Enter 21 element of matrix: 5\n",
      "Enter 22 element of matrix: 3\n",
      "\n",
      "Matrix [B] is : \n",
      "2\t6\t\n",
      "5\t3\t\n",
      "\n",
      "Resultant matrix of addition of matrix A and B is :\n",
      "4\t9\t\n",
      "9\t8\t\n"
     ]
    }
   ],
   "source": [
    "#program to add tWo matrices \n",
    "#function to take input of matrices\n",
    "def mat(row,col):\n",
    "    matrix=[]\n",
    "    for i in range(row):\n",
    "        row_mat=[]\n",
    "        for j in range (col):\n",
    "            element = int(input(f'Enter {i+1}{j+1} element of matrix: '))\n",
    "            row_mat.append(element)\n",
    "        matrix.append(row_mat)\n",
    "    return matrix\n",
    "\n",
    "#function to print input of matrices\n",
    "def mat_print(matrix):\n",
    "    for i in range(len(matrix)):\n",
    "        for j in range (len(matrix[0])):\n",
    "            print(matrix[i][j],end=\"\\t\")\n",
    "        print()\n",
    "\n",
    "#function to add two Matrices\n",
    "def Add_matrices(mat1,mat2):\n",
    "    row = len(mat1)\n",
    "    col = len(mat1[0])\n",
    "    res_mat=[]\n",
    "    for i in range(row):\n",
    "        res_row=[]\n",
    "        for j in range (col):\n",
    "            res_row.append(mat1[i][j]+mat2[i][j])\n",
    "        res_mat.append(res_row)\n",
    "    return res_mat\n",
    "\n",
    "\n",
    "row = int(input('input number of rows of matrix '))\n",
    "col = int(input('input number of column of matrix '))\n",
    "#matrix [A] formation\n",
    "print(\"input element of matrix A\")\n",
    "A =mat(row,col)\n",
    "\n",
    "#print the A matrix\n",
    "print('\\nMatrix [A] is :')\n",
    "mat_print(A)\n",
    "\n",
    "#matrix [B] formation\n",
    "print(\"input element of matrix B\")\n",
    "B = mat(row,col)\n",
    "\n",
    "#print the B matrix\n",
    "print('\\nMatrix [B] is : ')\n",
    "mat_print(B)\n",
    "\n",
    "#add tWo matrices\n",
    "Add_mat = Add_matrices(A,B)\n",
    "\n",
    "#print the Resultant matrix\n",
    "print('\\nResultant matrix of addition of matrix A and B is :')\n",
    "mat_print(Add_mat)"
   ]
  },
  {
   "cell_type": "markdown",
   "id": "417f61b7",
   "metadata": {},
   "source": [
    "Q2.\tWrite a Python Program to Multiply Two Matrices?"
   ]
  },
  {
   "cell_type": "code",
   "execution_count": 44,
   "id": "8a932f56",
   "metadata": {},
   "outputs": [
    {
     "name": "stdout",
     "output_type": "stream",
     "text": [
      "input element of matrix A :\n",
      "input number of rows of matrix 3\n",
      "input number of column of matrix 1\n",
      "Enter 11 element of matrix: 1\n",
      "Enter 21 element of matrix: 3\n",
      "Enter 31 element of matrix: 5\n",
      "\n",
      "Matrix [A] is :\n",
      "1\t\n",
      "3\t\n",
      "5\t\n",
      "input element of matrix B :\n",
      "input number of rows of matrix 1\n",
      "input number of column of matrix 3\n",
      "Enter 11 element of matrix: 4\n",
      "Enter 12 element of matrix: 6\n",
      "Enter 13 element of matrix: 8\n",
      "\n",
      "Matrix [B] is : \n",
      "4\t6\t8\t\n",
      "Resultant matrix of multiplication of matrix A and B is :\n",
      "4\t6\t8\t\n",
      "12\t18\t24\t\n",
      "20\t30\t40\t\n"
     ]
    }
   ],
   "source": [
    "#program to multiply tWo matrices \n",
    "#function to take input of matrices\n",
    "def mat():\n",
    "    #input of number of rows and column of matrix\n",
    "    row = int(input('input number of rows of matrix '))\n",
    "    col = int(input('input number of column of matrix '))\n",
    "    matrix=[]\n",
    "    for i in range(row):\n",
    "        row_mat=[]\n",
    "        for j in range (col):\n",
    "            element = int(input(f'Enter {i+1}{j+1} element of matrix: '))\n",
    "            row_mat.append(element)\n",
    "        matrix.append(row_mat)\n",
    "    return matrix\n",
    "\n",
    "#function to print input of matrices\n",
    "def mat_print(matrix):\n",
    "    for i in range(len(matrix)):\n",
    "        for j in range (len(matrix[0])):\n",
    "            print(matrix[i][j],end=\"\\t\")\n",
    "        print()\n",
    "\n",
    "#function to add two Matrices\n",
    "def multiply_matrices(mat1,mat2):\n",
    "    if len(mat1[0])!=len(mat2):\n",
    "        print(\"Necessary condition for multiplication of two matrices is not follow\")\n",
    "    else:\n",
    "        row = len(mat1)\n",
    "        col = len(mat2[0])\n",
    "        res_mat=[]\n",
    "        for i in range(row):\n",
    "            res_row=[]\n",
    "            for j in range (col):\n",
    "                temp=0   #tp store sum of multiplication for one element\n",
    "                temp=sum([mat1[i][k]*mat2[k][j] for k in range(len(mat2))])\n",
    "                res_row.append(temp)\n",
    "            res_mat.append(res_row)\n",
    "        return res_mat\n",
    "\n",
    "\n",
    "try:\n",
    "    #matrix [A] formation\n",
    "    print(\"input element of matrix A :\")\n",
    "    A =mat()\n",
    "\n",
    "    #print the A matrix\n",
    "    print('\\nMatrix [A] is :')\n",
    "    mat_print(A)\n",
    "\n",
    "    #matrix [B] formation\n",
    "    print(\"input element of matrix B :\")\n",
    "    B = mat()\n",
    "\n",
    "    #print the B matrix\n",
    "    print('\\nMatrix [B] is : ')\n",
    "    mat_print(B)\n",
    "\n",
    "    #multiply tWo matrices\n",
    "    mult_mat = multiply_matrices(A,B)\n",
    "\n",
    "    #print the Resultant matrix\n",
    "    print('Resultant matrix of multiplication of matrix A and B is :')\n",
    "    mat_print(mult_mat)\n",
    "except TypeError:\n",
    "    print('TypeError!,Multiplication is not possible')\n",
    "except Exception as e:\n",
    "    print(e)"
   ]
  },
  {
   "cell_type": "markdown",
   "id": "3fc52950",
   "metadata": {},
   "source": [
    "Q3.\tWrite a Python Program to Transpose a Matrix?"
   ]
  },
  {
   "cell_type": "code",
   "execution_count": 46,
   "id": "94f8dde8",
   "metadata": {
    "collapsed": true
   },
   "outputs": [
    {
     "name": "stdout",
     "output_type": "stream",
     "text": [
      "input number of rows : 3\n",
      "input number of column : 2\n",
      "\n",
      "input element of matrix A\n",
      "Enter 11 element of matrix: 3\n",
      "Enter 12 element of matrix: 4\n",
      "Enter 21 element of matrix: 6\n",
      "Enter 22 element of matrix: 8\n",
      "Enter 31 element of matrix: 0\n",
      "Enter 32 element of matrix: 1\n",
      "\n",
      "Input matrix is:\n",
      "3\t4\t\n",
      "6\t8\t\n",
      "0\t1\t\n",
      "\n",
      "The resultant transpose matrix of input matrix is :\n",
      "3\t6\t0\t\n",
      "4\t8\t1\t\n"
     ]
    }
   ],
   "source": [
    "#program to transpose a matrix\n",
    "\n",
    "#function to find transpose\n",
    "def trans_matrices(mat1):\n",
    "    row = len(mat1)\n",
    "    col = len(mat1[0])\n",
    "    trans_mat=[]\n",
    "    for i in range(col):\n",
    "        temp=[]           #temparary list to store row values\n",
    "        for j in range (row):\n",
    "            temp.append(mat1[j][i])\n",
    "        trans_mat.append(temp)\n",
    "    return trans_mat\n",
    "\n",
    "#function to take input of matrices\n",
    "def mat(row,col):\n",
    "    matrix=[]\n",
    "    for i in range(row):\n",
    "        row_mat=[]\n",
    "        for j in range (col):\n",
    "            element = int(input(f'Enter {i+1}{j+1} element of matrix: '))\n",
    "            row_mat.append(element)\n",
    "        matrix.append(row_mat)\n",
    "    return matrix\n",
    "\n",
    "#function to print input of matrices\n",
    "def mat_print(matrix):\n",
    "    for i in range(len(matrix)):\n",
    "        for j in range (len(matrix[0])):\n",
    "            print(matrix[i][j],end=\"\\t\")\n",
    "        print()\n",
    "\n",
    "#take input matrix A\n",
    "n= int(input('input number of rows : '))\n",
    "m= int(input('input number of column : '))\n",
    "\n",
    "print(\"\\ninput element of matrix A\")\n",
    "A=mat(n,m)\n",
    "print('\\nInput matrix is:')\n",
    "mat_print(A)\n",
    "#calcuting transpose of matrix by calling trans_matrices()function\n",
    "x = trans_matrices(A)\n",
    "#print the resultant transpose matrix\n",
    "print('\\nThe resultant transpose matrix of input matrix is :')\n",
    "mat_print(x)\n"
   ]
  },
  {
   "cell_type": "markdown",
   "id": "14aed27a",
   "metadata": {},
   "source": [
    "Q4.\tWrite a Python Program to Sort Words in Alphabetic Order?"
   ]
  },
  {
   "cell_type": "code",
   "execution_count": 51,
   "id": "ebbacba3",
   "metadata": {},
   "outputs": [
    {
     "name": "stdout",
     "output_type": "stream",
     "text": [
      "Enter a string\n",
      "this is Prateek Patel and i am a student of FSDS Bootcamp at iNeuron\n",
      "String with sorted words given below :\n",
      "\n",
      "Bootcamp FSDS Patel Prateek a am and at i iNeuron is of student this "
     ]
    }
   ],
   "source": [
    "# program to sort words in Alphabetic order\n",
    "x=input('Enter a string\\n')\n",
    "l= x.split()           #split words into list\n",
    "#list to store sorted words\n",
    "b=[]\n",
    "for i in range(len(l)):\n",
    "    for j in range(i+1,len(l)):\n",
    "        if l[j]<l[i]:\n",
    "            l[i],l[j]=l[j],l[i]\n",
    "    b.append(l[i])\n",
    "#print sorted list\n",
    "print(\"\\nString with sorted words given below :\")\n",
    "for i in b:\n",
    "    print(i,end=\" \")"
   ]
  },
  {
   "cell_type": "markdown",
   "id": "0b307aa8",
   "metadata": {},
   "source": [
    "Q5.\tWrite a Python Program to Remove Punctuation From a String?"
   ]
  },
  {
   "cell_type": "code",
   "execution_count": 61,
   "id": "5d4105e4",
   "metadata": {},
   "outputs": [
    {
     "name": "stdout",
     "output_type": "stream",
     "text": [
      "Enter a string\n",
      "https://learn.ineuron.ai/lesson/How-To-Perform-Hypothesis-Testing---Confidence-IntervalZ-Test-Statistics-Derive-Conclusion/6248124a006e0904db59fe9d/course/Full-Stack-Data-Science-Bootcamp/6248124a006e09832559f938\n",
      "\n",
      "Final string free from punctuation is :  httpslearnineuronailessonHowToPerformHypothesisTestingConfidenceIntervalZTestStatisticsDeriveConclusion6248124a006e0904db59fe9dcourseFullStackDataScienceBootcamp6248124a006e09832559f938\n"
     ]
    }
   ],
   "source": [
    "#program to remove Punctuation from a string\n",
    "x=input('Enter a string\\n')\n",
    "#string of all possible punctuations\n",
    "punc = '''!()-[]{};:'\"\\,<>./?@#$%^&*_~'''\n",
    "#using for loop for indexing of input string\n",
    "for i in x:\n",
    "    if i in punc:\n",
    "        x= x.replace(i,'')\n",
    "#string without punctuation \n",
    "print('\\nFinal string free from punctuation is : ',x)\n",
    "\n"
   ]
  },
  {
   "cell_type": "markdown",
   "id": "aedc43b2",
   "metadata": {},
   "source": [
    "##### "
   ]
  }
 ],
 "metadata": {
  "kernelspec": {
   "display_name": "Python 3 (ipykernel)",
   "language": "python",
   "name": "python3"
  },
  "language_info": {
   "codemirror_mode": {
    "name": "ipython",
    "version": 3
   },
   "file_extension": ".py",
   "mimetype": "text/x-python",
   "name": "python",
   "nbconvert_exporter": "python",
   "pygments_lexer": "ipython3",
   "version": "3.9.12"
  }
 },
 "nbformat": 4,
 "nbformat_minor": 5
}
