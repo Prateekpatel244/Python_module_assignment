{
 "cells": [
  {
   "cell_type": "markdown",
   "id": "84adcf7e",
   "metadata": {},
   "source": [
    "# Question 1:\n",
    "Please write a program using generator to print the numbers which can be divisible by 5 and 7 between 0 and n in comma separated form while n is input by console.\n"
   ]
  },
  {
   "cell_type": "code",
   "execution_count": 64,
   "id": "568bce52",
   "metadata": {},
   "outputs": [
    {
     "name": "stdout",
     "output_type": "stream",
     "text": [
      "Input a value of n : 120\n",
      "0 , 35 , 70 , 105 , "
     ]
    }
   ],
   "source": [
    "class divisible:\n",
    "    def commomn_divisible(self,n):\n",
    "        \"\"\"\n",
    "        Function use to generate numbers which can be divisible by 5 and 7 in range on 0 to n\n",
    "        \"\"\"\n",
    "        try:\n",
    "            for i in range(n+1):\n",
    "                if i %5 ==0 and i%7 ==0:\n",
    "                    yield i\n",
    "        except Exception as e:\n",
    "            return e\n",
    "\n",
    "n = int(input('Input a value of n : '))                \n",
    "comm_div =divisible()\n",
    "for factor in comm_div.commomn_divisible(n):\n",
    "    print(factor , end =\" , \")\n",
    "\n",
    "            \n",
    "            "
   ]
  },
  {
   "cell_type": "markdown",
   "id": "9a61a7d8",
   "metadata": {},
   "source": [
    "# Question 2:\n",
    "Please write a program using generator to print the even numbers between 0 and n in comma separated form while n is input by console.\n"
   ]
  },
  {
   "cell_type": "code",
   "execution_count": 63,
   "id": "b6596a01",
   "metadata": {},
   "outputs": [
    {
     "name": "stdout",
     "output_type": "stream",
     "text": [
      "Input a value of n : 54\n",
      "0 , 2 , 4 , 6 , 8 , 10 , 12 , 14 , 16 , 18 , 20 , 22 , 24 , 26 , 28 , 30 , 32 , 34 , 36 , 38 , 40 , 42 , 44 , 46 , 48 , 50 , 52 , 54 , "
     ]
    }
   ],
   "source": [
    "class number:\n",
    "    def even_number(self,n):\n",
    "        \"\"\"\n",
    "        Function use to generate even numbers  in range  0 to n\n",
    "        \"\"\"\n",
    "        try:\n",
    "            for i in range(n+1):\n",
    "                if i%2 ==0:\n",
    "                    yield i\n",
    "                    \n",
    "        except Exception as e:\n",
    "            return e\n",
    "\n",
    "n = int(input('Input a value of n : '))                \n",
    "even_num = number()\n",
    "for num in even_num.even_number(n):\n",
    "    print(num , end =\" , \")\n"
   ]
  },
  {
   "cell_type": "markdown",
   "id": "b204c66d",
   "metadata": {},
   "source": [
    "# Question 3:\n",
    "The Fibonacci Sequence is computed based on the following formula:\n",
    "f(n)=0 if n=0\n",
    "f(n)=1 if n=1\n",
    "f(n)=f(n-1)+f(n-2) if n>1\n",
    "Please write a program using list comprehension to print the Fibonacci Sequence in comma separated form with a given n input by console.\n"
   ]
  },
  {
   "cell_type": "code",
   "execution_count": 65,
   "id": "630aec41",
   "metadata": {},
   "outputs": [
    {
     "name": "stdout",
     "output_type": "stream",
     "text": [
      "Input number of term of Fibonacci Sequence required to print? :7\n",
      "0 , 1 , 1 , 2 , 3 , 5 , 8 , 13 , "
     ]
    }
   ],
   "source": [
    "class series:\n",
    "    def Fibonacci_Seque(self ,n):\n",
    "        \"\"\"\n",
    "        to print the Fibonacci Sequence in comma separated form\n",
    "        using list comprehension\n",
    "        \"\"\"\n",
    "        try:\n",
    "            Fibbo=[]\n",
    "            [Fibbo.append(0) if i ==0 else (Fibbo.append(1) if i==1 else Fibbo.append(Fibbo[len(Fibbo)-1]+Fibbo[len(Fibbo)-2])) for i in range(n+1) if n>0]\n",
    "            return Fibbo\n",
    "        except Exception as e:\n",
    "            return e\n",
    "s =series()\n",
    "n = int(input('Input number of term of Fibonacci Sequence required to print? :'))\n",
    "for i in s.Fibonacci_Seque(n):\n",
    "    print(i,end=\" , \")\n",
    "        "
   ]
  },
  {
   "cell_type": "markdown",
   "id": "215f17a9",
   "metadata": {},
   "source": [
    "# Question 4:\n",
    "Assuming that we have some email addresses in the \"username@companyname.com\" format, please write program to print the user name of a given email address. Both user names and company names are composed of letters only.\n"
   ]
  },
  {
   "cell_type": "code",
   "execution_count": 82,
   "id": "cfe9f9f7",
   "metadata": {},
   "outputs": [
    {
     "name": "stdout",
     "output_type": "stream",
     "text": [
      "Input your enter Email address :\n",
      "prateek@gmail.com\n",
      "Username is :  prateek\n"
     ]
    }
   ],
   "source": [
    "# program to print the user name of a given email address\n",
    "def email_username():\n",
    "    \"\"\"\n",
    "    Function to print the user name of a given email address. Both user names and\n",
    "    company names are composed of letters only\n",
    "    \"\"\"\n",
    "    try:\n",
    "        import re\n",
    "        Email = input(\"Input your enter Email address :\\n\")\n",
    "        pattern = \"(\\w+)@\\w+.com\"\n",
    "        ans = re.findall(pattern,Email)\n",
    "        for username in ans:\n",
    "            if username.isalpha():\n",
    "                print('Username is : ',username)\n",
    "        \n",
    "    except Exception as e:\n",
    "        return e\n",
    "email_username()"
   ]
  },
  {
   "cell_type": "markdown",
   "id": "149d5b3d",
   "metadata": {},
   "source": [
    "# Question 5:\n",
    "Define a class named Shape and its subclass Square. The Square class has an init function which takes a length as argument. Both classes have a area function which can print the area of the shape where Shape's area is 0 by default.\n"
   ]
  },
  {
   "cell_type": "code",
   "execution_count": 89,
   "id": "a13d6395",
   "metadata": {},
   "outputs": [
    {
     "name": "stdout",
     "output_type": "stream",
     "text": [
      "9\n"
     ]
    }
   ],
   "source": [
    "class Shape:\n",
    "    def __init__(self):\n",
    "        pass\n",
    "\n",
    "    def area(self):\n",
    "        return 0\n",
    "class Square(Shape):\n",
    "    def __init__(self, length=0):\n",
    "        self.length = length\n",
    "        super(Square, self).__init__()\n",
    "    def area(self):\n",
    "        return self.length*self.length\n",
    "s1=Square(3)\n",
    "print(s1.area())\n"
   ]
  },
  {
   "cell_type": "code",
   "execution_count": null,
   "id": "7eb46016",
   "metadata": {},
   "outputs": [],
   "source": []
  }
 ],
 "metadata": {
  "kernelspec": {
   "display_name": "Python 3 (ipykernel)",
   "language": "python",
   "name": "python3"
  },
  "language_info": {
   "codemirror_mode": {
    "name": "ipython",
    "version": 3
   },
   "file_extension": ".py",
   "mimetype": "text/x-python",
   "name": "python",
   "nbconvert_exporter": "python",
   "pygments_lexer": "ipython3",
   "version": "3.9.12"
  }
 },
 "nbformat": 4,
 "nbformat_minor": 5
}
