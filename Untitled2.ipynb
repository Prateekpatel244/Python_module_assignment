{
 "cells": [
  {
   "cell_type": "markdown",
   "id": "7b9c349a",
   "metadata": {},
   "source": [
    "Q1. Write a Python program to find words which are greater than given length k?"
   ]
  },
  {
   "cell_type": "code",
   "execution_count": 9,
   "id": "34053f25",
   "metadata": {},
   "outputs": [
    {
     "name": "stdout",
     "output_type": "stream",
     "text": [
      "Enter a string : This is Prateek patel and i'm pursuing masters\n",
      "Input length of string above which words are required : 3\n",
      "Words greater than given length ['This', 'Prateek', 'patel', 'pursuing', 'masters']\n"
     ]
    }
   ],
   "source": [
    "#program to find words which are greater than given length k\n",
    "def string_length(string,n):\n",
    "    l=[]\n",
    "    for i in string.split():\n",
    "        if len(i) > n:\n",
    "            l.append(i)\n",
    "    return l\n",
    "#take input by user to find words greater than length k\n",
    "x = input('Enter a string : ')\n",
    "k = int(input('Input length of string above which words are required : '))\n",
    "#print the words by calling function\n",
    "print('Words greater than given length',string_length(x,k))"
   ]
  },
  {
   "cell_type": "markdown",
   "id": "a36866d5",
   "metadata": {},
   "source": [
    "Q2. Write a Python program for removing i-th character from a string?"
   ]
  },
  {
   "cell_type": "code",
   "execution_count": 18,
   "id": "e85125b5",
   "metadata": {},
   "outputs": [
    {
     "name": "stdout",
     "output_type": "stream",
     "text": [
      "enter a string : This is Prateek patel and i'm pursuing masters\n",
      "enter value of index12\n"
     ]
    },
    {
     "data": {
      "text/plain": [
       "\"This is Pratek patel and i'm pursuing masters\""
      ]
     },
     "execution_count": 18,
     "metadata": {},
     "output_type": "execute_result"
    }
   ],
   "source": [
    "#program for removing i-th character from a string\n",
    "def string_index(string,k):\n",
    "    #calculate length of string\n",
    "    length = len(string)\n",
    "    #variable to store i-th index removed string\n",
    "    sum_= \"\"\n",
    "    sum_+=string[0:k]+string[k+1:]\n",
    "    return sum_\n",
    "#take input for remove i-th index \n",
    "x=input('enter a string : ')\n",
    "i = int(input('enter value of index'))\n",
    "#calling the function\n",
    "string_index(x,i)\n",
    "    \n",
    "    "
   ]
  },
  {
   "cell_type": "markdown",
   "id": "288bd23d",
   "metadata": {},
   "source": [
    "Q3. Write a Python program to split and join a string?"
   ]
  },
  {
   "cell_type": "code",
   "execution_count": 27,
   "id": "ebee9e74",
   "metadata": {},
   "outputs": [
    {
     "name": "stdout",
     "output_type": "stream",
     "text": [
      "enter a string : uew djkc sol ks ,sdn\n",
      "enter a seperator string : s\n",
      "list of splited string ['uew djkc ', 'ol k', ' ,', 'dn']\n",
      "enter first string to join : iuwe eifb dfkln fh\n",
      "enter second string to join : bkxcv sdflko sl\n",
      "joined string is :  iuwe eifb dfkln fhbkxcv sdflko sl\n"
     ]
    }
   ],
   "source": [
    "#program to split and join a string\n",
    "#split the input string\n",
    "a = input('enter a string : ')\n",
    "i = input('enter a seperator string : ')\n",
    "print('list of splited string',a.split(i))\n",
    "\n",
    "#join the two string string\n",
    "x = input('enter first string to join : ')\n",
    "y = input('enter second string to join : ')\n",
    "print('joined string is : ',x+y)\n",
    "\n",
    "            \n",
    "            \n",
    "    "
   ]
  },
  {
   "cell_type": "markdown",
   "id": "feff44c6",
   "metadata": {},
   "source": [
    "Q4. Write a Python to check if a given string is binary string or not?"
   ]
  },
  {
   "cell_type": "code",
   "execution_count": 30,
   "id": "5948da92",
   "metadata": {},
   "outputs": [
    {
     "name": "stdout",
     "output_type": "stream",
     "text": [
      "enter a string : 101001\n",
      "input string is a binary string\n"
     ]
    }
   ],
   "source": [
    "#Binary strings are the strings that have characters either 1 or 0.\n",
    "#If there is any character that is not 1 or 0, then the string is a non-binary string\n",
    "#take input of string to check string is binary or not.\n",
    "string = input('enter a string : ')\n",
    "binary = '10'\n",
    "for char in string:\n",
    "    if char not in binary:\n",
    "        print('input string is not binary string')\n",
    "        break\n",
    "    \n",
    "else:\n",
    "    print('input string is a binary string')"
   ]
  },
  {
   "cell_type": "markdown",
   "id": "402d1bb2",
   "metadata": {},
   "source": [
    "Q5. Write a Python program to find uncommon words from two Strings?"
   ]
  },
  {
   "cell_type": "code",
   "execution_count": 40,
   "id": "d036cac7",
   "metadata": {},
   "outputs": [
    {
     "name": "stdout",
     "output_type": "stream",
     "text": [
      "Enter first string :Data science involves a plethora of disciplines and expertise areas to produce a holistic, thorough and refined look into raw data\n",
      "Enter second string :Data scientists must be skilled in everything from data engineering, math, statistics, advanced computing and visualizations\n",
      "uncommon words of both string are : \n",
      "science , involves , a , plethora , of , disciplines , expertise , areas , to , produce , a , holistic, , thorough , refined , look , into , raw , scientists , must , be , skilled , in , everything , from , engineering, , math, , statistics, , advanced , computing , visualizations , "
     ]
    }
   ],
   "source": [
    "#program to find uncommon words from two String\n",
    "def uncommon_word(str1,str2):\n",
    "    #strings converted into list \n",
    "    list1 = str1.split(' ')\n",
    "    list2 = str2.split(' ')\n",
    "    #list to store uncommon words\n",
    "    uncommon_list=[]\n",
    "    #for loop to find uncommon of string 1 from string 2\n",
    "    for i in list1:\n",
    "        if i not in list2:\n",
    "            uncommon_list.append(i)\n",
    "    #for loop to find uncommon of string 2 from string 1\n",
    "    for j in list2:\n",
    "        if j not in list1:\n",
    "            uncommon_list.append(j)\n",
    "    return uncommon_list\n",
    "#input both strings\n",
    "st1 = input('Enter first string :')\n",
    "st2 = input('Enter second string :')\n",
    "#print the uncommom words of both string\n",
    "print('uncommon words of both string are : ')\n",
    "for k in (uncommon_word(st1,st2)):\n",
    "    print(k, end=' , ')"
   ]
  },
  {
   "cell_type": "markdown",
   "id": "5801f68d",
   "metadata": {},
   "source": [
    "Q6. Write a Python to find all duplicate characters in string?"
   ]
  },
  {
   "cell_type": "code",
   "execution_count": 44,
   "id": "49504ab8",
   "metadata": {},
   "outputs": [
    {
     "name": "stdout",
     "output_type": "stream",
     "text": [
      "Input a string : Write a Python to find all duplicate characters in string\n",
      "Duplicate character present in string are : \n",
      "r , i , t , e , a , h , o , n , d , l , c , s , "
     ]
    }
   ],
   "source": [
    "#program to find all duplicate characters in string\n",
    "def duplicate(string):\n",
    "    l = []\n",
    "    # to find duplicate character in string us two nested loop\n",
    "    for i in string:\n",
    "        #count is variable to find occurence of that character\n",
    "        count = 0\n",
    "        for j in string:\n",
    "            if i == j and i != ' ' :\n",
    "                count+=1\n",
    "                \n",
    "        if count >1 and i not in l:\n",
    "            l.append(i)\n",
    "    return l\n",
    "#input a string\n",
    "st1 = input('Input a string : ')\n",
    "#print the duplicate character present in string\n",
    "print('Duplicate character present in string are : ')\n",
    "for k in (duplicate(st1)):\n",
    "    print(k,end=' , ')\n",
    "        "
   ]
  },
  {
   "cell_type": "markdown",
   "id": "c27f2d15",
   "metadata": {},
   "source": [
    "Q7. Write a Python Program to check if a string contains any special character?"
   ]
  },
  {
   "cell_type": "code",
   "execution_count": null,
   "id": "2462b891",
   "metadata": {},
   "outputs": [],
   "source": [
    "#"
   ]
  }
 ],
 "metadata": {
  "kernelspec": {
   "display_name": "Python 3 (ipykernel)",
   "language": "python",
   "name": "python3"
  },
  "language_info": {
   "codemirror_mode": {
    "name": "ipython",
    "version": 3
   },
   "file_extension": ".py",
   "mimetype": "text/x-python",
   "name": "python",
   "nbconvert_exporter": "python",
   "pygments_lexer": "ipython3",
   "version": "3.9.12"
  }
 },
 "nbformat": 4,
 "nbformat_minor": 5
}
