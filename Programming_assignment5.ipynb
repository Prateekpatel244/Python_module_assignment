{
 "cells": [
  {
   "cell_type": "markdown",
   "id": "fc6cc18b",
   "metadata": {},
   "source": [
    "Q1.\tWrite a Python Program to Find LCM?"
   ]
  },
  {
   "cell_type": "code",
   "execution_count": 1,
   "id": "4eee6555",
   "metadata": {},
   "outputs": [
    {
     "name": "stdout",
     "output_type": "stream",
     "text": [
      "Input first value\n",
      "7\n",
      "Input second value\n",
      "8\n",
      "LCM of 7 & 8 is 56\n"
     ]
    }
   ],
   "source": [
    "#Program to Find LCM\n",
    "#function to find LCM of two integer\n",
    "def LCM(x,y):\n",
    "    x=abs(x)\n",
    "    y = abs(y)\n",
    "    if x==0 or y==0:\n",
    "        return \"LCM of any zero number is undefined\"\n",
    "    else:\n",
    "        if x>y:\n",
    "            mul1 = x\n",
    "            mul2 = y\n",
    "        else:\n",
    "            mul1 = y\n",
    "            mul2 = x\n",
    "        #finding upper limit of multiplication steps\n",
    "        n = int((x*y)/mul2)\n",
    "        for i in range(1,n+1):\n",
    "            mult2= mul2*i\n",
    "            for j in range(1,i+1):\n",
    "                mult1 =mul1*j\n",
    "                if mult1 ==mult2:\n",
    "                    return \"LCM of {0} & {1} is {2}\".format(x,y,mult1)\n",
    "\n",
    "    \n",
    "\n",
    "#Input two integer\n",
    "x = int(input(\"Input first value\\n\"))\n",
    "y = int(input(\"Input second value\\n\"))\n",
    "#callling lcm function\n",
    "print(LCM(x,y))\n",
    "\n",
    "                 \n",
    "\n"
   ]
  },
  {
   "cell_type": "markdown",
   "id": "532921ba",
   "metadata": {},
   "source": [
    "Q2.\tWrite a Python Program to Find HCF?"
   ]
  },
  {
   "cell_type": "code",
   "execution_count": 2,
   "id": "b3616e37",
   "metadata": {},
   "outputs": [
    {
     "name": "stdout",
     "output_type": "stream",
     "text": [
      "Input first value\n",
      "9\n",
      "Input second value\n",
      "6\n",
      " HCF  of 9 & 6 is 3\n"
     ]
    }
   ],
   "source": [
    "#Input two integer\n",
    "x = int(input(\"Input first value\\n\"))\n",
    "y = int(input(\"Input second value\\n\"))\n",
    "# checking any number zero or not\n",
    "if x==0 or y==0:\n",
    "    print(\"LCM of any zero number is undefined\")\n",
    "else:\n",
    "    #find minimum of x & y\n",
    "    if x<y:\n",
    "        x , y = y , x\n",
    "    for i in range(y,0,-1):\n",
    "        if (x%i)== 0 and (y%i) == 0:\n",
    "            print(\" HCF  of {0} & {1} is {2}\".format(x, y, i))\n",
    "            break"
   ]
  },
  {
   "cell_type": "markdown",
   "id": "0bcdd27e",
   "metadata": {},
   "source": [
    "Q3.\tWrite a Python Program to Convert Decimal to Binary, Octal and Hexadecimal?"
   ]
  },
  {
   "cell_type": "code",
   "execution_count": 3,
   "id": "16264b28",
   "metadata": {},
   "outputs": [
    {
     "name": "stdout",
     "output_type": "stream",
     "text": [
      "input a decimal number\n",
      "76\n",
      "Binary number of input decimal is :1001100\n",
      "input a decimal number\n",
      "98\n",
      "Octal number of input decimal is :142\n",
      "input a decimal number\n",
      "65\n",
      "Hexadeciaml number of input decimal is :41"
     ]
    }
   ],
   "source": [
    "#Program to Convert Decimal to Binary\n",
    "#Function to Convert Decimal to Binary\n",
    "def deci_binary(n):\n",
    "    \"\"\"function to convert decimal number into a binary number\"\"\"   #Docstring for function\n",
    "    l=[]\n",
    "    while n>0:\n",
    "        l.append(n%2)\n",
    "        n=n//2\n",
    "    print(\"Binary number of input decimal is :\",end=\"\")\n",
    "    for l in l[::-1]:\n",
    "        print(l,end=\"\")\n",
    "        \n",
    "\n",
    "#Function to Convert Decimal to octal\n",
    "def deci_Octal (n):\n",
    "    \"\"\"function to convert decimal number into a Octal number\"\"\"   #Docstring for function\n",
    "    l=[]\n",
    "    while n>0:\n",
    "        l.append(n%8)\n",
    "        n=n//8\n",
    "    print(\"Octal number of input decimal is :\",end=\"\")\n",
    "    for l in l[::-1]:\n",
    "        print(l,end=\"\")\n",
    "\n",
    "\n",
    "#Function to Convert Decimal to Hexadecimal\n",
    "def deci_Hexadeciaml(n):\n",
    "    \"\"\"function to convert decimal number into a Hexadeciaml number\"\"\"   #Docstring for function\n",
    "    l=[]\n",
    "    while n>0:\n",
    "        if (n%16)>9:\n",
    "            l.append(chr(55 +(n%16)))\n",
    "        else:\n",
    "            l.append(n%16)\n",
    "        n=n//16\n",
    "    print(\"Hexadeciaml number of input decimal is :\",end=\"\")\n",
    "    for l in l[::-1]:\n",
    "        print(l,end=\"\")\n",
    "\n",
    "#take input of decimal number to convert binary \n",
    "deci1 = int(input(\"input a decimal number\\n\"))\n",
    "deci_binary(deci1)\n",
    "#take input of decimal number to convert octal\n",
    "deci2 = int(input(\"\\ninput a decimal number\\n\"))\n",
    "deci_Octal(deci2)\n",
    "#take input of decimal number to convert\n",
    "deci3 = int(input(\"\\ninput a decimal number\\n\"))\n",
    "deci_Hexadeciaml(deci3)"
   ]
  },
  {
   "cell_type": "markdown",
   "id": "99cafb4a",
   "metadata": {},
   "source": [
    "Q4.\tWrite a Python Program To Find ASCII value of a character?"
   ]
  },
  {
   "cell_type": "code",
   "execution_count": 4,
   "id": "a3894f4a",
   "metadata": {},
   "outputs": [
    {
     "name": "stdout",
     "output_type": "stream",
     "text": [
      "Input a character which ascii value is to be find\n",
      "7\n",
      "ASCII value of a input character 7 is : 55\n"
     ]
    }
   ],
   "source": [
    "#Program To Find ASCII value of a character\n",
    "#function to find ASCII value of a character\n",
    "def char(ch):\n",
    "    if len(ch)!=1:\n",
    "        return \"input string has more than 1 character\"\n",
    "    else:\n",
    "        return \"ASCII value of a input character {0} is : {1}\".format(ch,ord(ch))\n",
    "#input of char  \n",
    "ch = input(\"Input a character which ascii value is to be find\\n\")\n",
    "#Calling char function\n",
    "Ascii_value = char(ch)\n",
    "print(Ascii_value)\n",
    "        "
   ]
  },
  {
   "cell_type": "markdown",
   "id": "9ac61af5",
   "metadata": {},
   "source": [
    "Q5.\tWrite a Python Program to Make a Simple Calculator with 4 basic mathematical operations?"
   ]
  },
  {
   "cell_type": "code",
   "execution_count": 5,
   "id": "2b48ecca",
   "metadata": {},
   "outputs": [
    {
     "name": "stdout",
     "output_type": "stream",
     "text": [
      "Input first number a\n",
      "78\n",
      "Input second number b\n",
      "76\n",
      "154\n",
      "5928\n",
      "2\n",
      "1.0263157894736843\n"
     ]
    }
   ],
   "source": [
    "#Program to Make a Simple Calculator with 4 basic mathematical operations\n",
    "# function to addition\n",
    "def addition(*args):\n",
    "    \"\"\"it perform addtion operation of given integers\"\"\"\n",
    "    addition = 0\n",
    "    for i in args:\n",
    "        addition = addition + i\n",
    "    return addition\n",
    "# function to multiplication operation\n",
    "def multipl(*args):\n",
    "    \"\"\"it perform multiplication operation of given integers\"\"\"\n",
    "    mult = 1\n",
    "    for i in args:\n",
    "        mult = mult*i\n",
    "    return mult\n",
    "#function to perform substration \n",
    "def subs(x,y):\n",
    "    \"\"\"it perform substration operation of given integers\"\"\"\n",
    "    c = x-y\n",
    "    return c\n",
    " #funtion to perform devision operation\n",
    "def division(a,b):\n",
    "    \"\"\"it perform division operation of given integers\"\"\"\n",
    "    if b==0:\n",
    "        return \"denominator is zero ,Zero division Error\"\n",
    "    else:\n",
    "        div = a/b\n",
    "    return div\n",
    "#Take input for function calling\n",
    "a = int(input(\"Input first number a\\n\"))\n",
    "b = int(input(\"Input second number b\\n\"))\n",
    "#calling addition function\n",
    "print(addition(a,b))\n",
    "#calling multiplication function\n",
    "print(multipl(a,b))\n",
    "#calling substration function\n",
    "print(subs(a,b))\n",
    "#calling a division function\n",
    "print(division(a,b))\n",
    "\n",
    "        \n",
    "    "
   ]
  },
  {
   "cell_type": "code",
   "execution_count": null,
   "id": "79ebce75",
   "metadata": {},
   "outputs": [],
   "source": []
  }
 ],
 "metadata": {
  "kernelspec": {
   "display_name": "Python 3 (ipykernel)",
   "language": "python",
   "name": "python3"
  },
  "language_info": {
   "codemirror_mode": {
    "name": "ipython",
    "version": 3
   },
   "file_extension": ".py",
   "mimetype": "text/x-python",
   "name": "python",
   "nbconvert_exporter": "python",
   "pygments_lexer": "ipython3",
   "version": "3.9.12"
  }
 },
 "nbformat": 4,
 "nbformat_minor": 5
}
