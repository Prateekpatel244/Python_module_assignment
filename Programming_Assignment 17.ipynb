{
 "cells": [
  {
   "cell_type": "markdown",
   "id": "13950c4f",
   "metadata": {},
   "source": [
    "# Question1. Create a function that takes three arguments a, b, c and returns the sum of the numbers that are evenly divided by c from the range a, b inclusive.\n",
    "Examples\n",
    "\n",
    "evenly_divisible(1, 10, 20) ➞ 0\n",
    " No number between 1 and 10 can be evenly divided by 20.\n",
    "\n",
    "evenly_divisible(1, 10, 2) ➞ 30\n",
    " 2 + 4 + 6 + 8 + 10 = 30\n",
    "\n",
    "evenly_divisible(1, 10, 3) ➞ 18\n",
    " 3 + 6 + 9 = 18\n"
   ]
  },
  {
   "cell_type": "code",
   "execution_count": 18,
   "id": "8ebb22ce",
   "metadata": {},
   "outputs": [
    {
     "name": "stdout",
     "output_type": "stream",
     "text": [
      "0 No number between 1 and 10 can be evenly divided by 20\n",
      "30\n",
      "18\n"
     ]
    }
   ],
   "source": [
    "def evenly_divisible(a,b,c):\n",
    "    '''\n",
    "    Function that takes three arguments a, b, c and\n",
    "    returns the sum of the numbers that are evenly divided by c from the range a, b inclusive\n",
    "    '''\n",
    "    try:\n",
    "        sum=0\n",
    "        if (b-a)/c >1:\n",
    "            for i in range(a,b+1):\n",
    "                if i%c==0:\n",
    "                    sum=sum+i\n",
    "            return sum\n",
    "        else:\n",
    "            return f\"{sum} No number between {a} and {b} can be evenly divided by {c}\"\n",
    "    except Exception as e:\n",
    "        print(e)\n",
    "\n",
    "print(evenly_divisible(1,10,20))\n",
    "print(evenly_divisible(1,10,2))\n",
    "print(evenly_divisible(1,10,3))"
   ]
  },
  {
   "cell_type": "markdown",
   "id": "3fc97aad",
   "metadata": {},
   "source": [
    "# Question2. Create a function that returns True if a given inequality expression is correct and False otherwise.\n",
    "Examples\n",
    "\n",
    "correct_signs(\"3 < 7 < 11\") ➞ True\n",
    "\n",
    "correct_signs(\"13 > 44 > 33 > 1\") ➞ False\n",
    "\n",
    "correct_signs(\"1 < 2 < 6 < 9 > 3\") ➞ True\n"
   ]
  },
  {
   "cell_type": "code",
   "execution_count": 45,
   "id": "4e63b4db",
   "metadata": {},
   "outputs": [
    {
     "name": "stdout",
     "output_type": "stream",
     "text": [
      "True\n",
      "False\n",
      "True\n"
     ]
    }
   ],
   "source": [
    "def correct_signs(expression):\n",
    "    '''\n",
    "    Function that returns True if a given inequality expression is correct and False otherwise\n",
    "    '''\n",
    "    try:\n",
    "        sign = eval(expression)\n",
    "        if sign:\n",
    "            return True\n",
    "        else:\n",
    "            return False\n",
    "    except Exception as e:\n",
    "        print(e)\n",
    "print(correct_signs(\"3 < 7 < 11\"))\n",
    "print(correct_signs(\"13 > 44 > 33 > 1\"))\n",
    "print(correct_signs(\"1 < 2 < 6 < 9 > 3\"))"
   ]
  },
  {
   "cell_type": "markdown",
   "id": "9b18f734",
   "metadata": {},
   "source": [
    "# Question3. Create a function that replaces all the vowels in a string with a specified character.\n",
    "Examples:\n",
    "\n",
    "replace_vowels(\"the aardvark\", \"#\") ➞ \"th# ##rdv#rk\"\n",
    "\n",
    "replace_vowels(\"minnie mouse\", \"?\") ➞ \"m?nn?? m??s?\"\n",
    "\n",
    "replace_vowels(\"shakespeare\", \"*\") ➞ \"sh*k*sp**r*\"\n"
   ]
  },
  {
   "cell_type": "code",
   "execution_count": 39,
   "id": "88a2acc6",
   "metadata": {},
   "outputs": [
    {
     "name": "stdout",
     "output_type": "stream",
     "text": [
      "th# ##rdv#rk\n",
      "m?nn?? m??s?\n",
      "sh*k*sp**r*\n"
     ]
    }
   ],
   "source": [
    "def replace_vowels(string,char):\n",
    "    '''\n",
    "     function that replaces all the vowels in a string with a specified character\n",
    "     '''\n",
    "    try:\n",
    "        vowel=\"AIEOUaeiou\"\n",
    "        for i in string:\n",
    "            if i in vowel:\n",
    "                string=string.replace(i,char)\n",
    "            else:\n",
    "                pass\n",
    "        return string\n",
    "    except Exception as e:\n",
    "        print(e)\n",
    "    \n",
    "print(replace_vowels(\"the aardvark\", \"#\"))\n",
    "print(replace_vowels(\"minnie mouse\", \"?\"))\n",
    "print(replace_vowels(\"shakespeare\", \"*\"))\n",
    "        "
   ]
  },
  {
   "cell_type": "markdown",
   "id": "e542e5a1",
   "metadata": {},
   "source": [
    "# Question4. Write a function that calculates the factorial of a number recursively.\n",
    "Examples:\n",
    "\n",
    "factorial(5) ➞ 120\n",
    "\n",
    "factorial(3) ➞ 6\n",
    "\n",
    "factorial(1) ➞ 1\n",
    "\n",
    "factorial(0) ➞ 1\n"
   ]
  },
  {
   "cell_type": "code",
   "execution_count": 40,
   "id": "847394f2",
   "metadata": {},
   "outputs": [
    {
     "name": "stdout",
     "output_type": "stream",
     "text": [
      "120\n",
      "6\n",
      "1\n",
      "1\n"
     ]
    }
   ],
   "source": [
    "def factorial(num):\n",
    "    '''\n",
    "     Function that calculates the factorial of a number recursively\n",
    "     \n",
    "     num: int, number which you want to calculate factorial\n",
    "    '''\n",
    "    try:\n",
    "        if num>=0:\n",
    "            if num ==0:\n",
    "                return 1\n",
    "            elif num ==1:\n",
    "                return 1\n",
    "            else:\n",
    "                return num*factorial(num-1)\n",
    "        else:\n",
    "            return 'num is a neagative number'\n",
    "    except Exception as e:\n",
    "        print(e)\n",
    "print(factorial(5))\n",
    "print(factorial(3))\n",
    "print(factorial(1))\n",
    "print(factorial(0))\n",
    "    "
   ]
  },
  {
   "cell_type": "markdown",
   "id": "87bc3132",
   "metadata": {},
   "source": [
    "# Question 5Hamming distance is the number of characters that differ between two strings.\n",
    "\n",
    "To illustrate:\n",
    "String1: \"abcbba\"\n",
    "String2: \"abcbda\"\n",
    "\n",
    "Hamming Distance: 1 - \"b\" vs. \"d\" is the only difference.\n",
    "\n",
    "Create a function that computes the hamming distance between two strings.\n",
    "\n",
    "Examples-\n",
    "\n",
    "hamming_distance(\"abcde\", \"bcdef\") ➞ 5\n",
    "\n",
    "hamming_distance(\"abcde\", \"abcde\") ➞ 0\n",
    "\n",
    "hamming_distance(\"strong\", \"strung\") ➞ 1\n"
   ]
  },
  {
   "cell_type": "code",
   "execution_count": 41,
   "id": "3d21e738",
   "metadata": {},
   "outputs": [
    {
     "name": "stdout",
     "output_type": "stream",
     "text": [
      "5\n",
      "0\n",
      "1\n"
     ]
    }
   ],
   "source": [
    "def hammering_distance(string1,string2):\n",
    "    '''\n",
    "    Function that computes the hamming distance between two strings\n",
    "    \n",
    "    Hamming distance between two strings of equal length is the number of positions at \n",
    "    which the corresponding character is different\n",
    "    \n",
    "    srting1: str, first string\n",
    "    srting2: str, second string\n",
    "    '''\n",
    "    try:\n",
    "        Hammering_distance = 0\n",
    "        for i in range(len(string1)):\n",
    "            if string1[i]!=string2[i]:\n",
    "                Hammering_distance+=1\n",
    "            else:\n",
    "                pass\n",
    "        else:\n",
    "            return Hammering_distance\n",
    "    except Exception as e:\n",
    "        print(e)\n",
    "    \n",
    "print(hammering_distance(\"abcde\", \"bcdef\"))\n",
    "print(hammering_distance(\"abcde\", \"abcde\"))\n",
    "print(hammering_distance(\"strong\", \"strung\"))\n",
    "\n",
    "    "
   ]
  },
  {
   "cell_type": "code",
   "execution_count": null,
   "id": "929ec0da",
   "metadata": {},
   "outputs": [],
   "source": []
  }
 ],
 "metadata": {
  "kernelspec": {
   "display_name": "Python 3 (ipykernel)",
   "language": "python",
   "name": "python3"
  },
  "language_info": {
   "codemirror_mode": {
    "name": "ipython",
    "version": 3
   },
   "file_extension": ".py",
   "mimetype": "text/x-python",
   "name": "python",
   "nbconvert_exporter": "python",
   "pygments_lexer": "ipython3",
   "version": "3.9.12"
  }
 },
 "nbformat": 4,
 "nbformat_minor": 5
}
