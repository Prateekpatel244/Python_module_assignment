{
 "cells": [
  {
   "cell_type": "markdown",
   "id": "11dd16d4",
   "metadata": {},
   "source": [
    "Q1.\tWrite a Python program to Extract Unique values dictionary values?"
   ]
  },
  {
   "cell_type": "code",
   "execution_count": 13,
   "id": "1bb74c76",
   "metadata": {},
   "outputs": [
    {
     "name": "stdout",
     "output_type": "stream",
     "text": [
      "Unique Keys in input dictonary are :  ['prateek', 'Guwahati', 24, 'Student']\n"
     ]
    }
   ],
   "source": [
    "#program to extracte Unique values\n",
    "#INPUT a dictionary\n",
    "dic={'name':'prateek','location':'Guwahati','Age':24,'profesion':'Student','nickname':'prateek',}\n",
    "#list to store all unique values\n",
    "key_list=[]\n",
    "for values in dic.values():\n",
    "    if values not in key_list:\n",
    "        key_list.append(values)\n",
    "#print all unique keys \n",
    "print('Unique Keys in input dictonary are : ',key_list)\n",
    "\n"
   ]
  },
  {
   "cell_type": "markdown",
   "id": "2a8cf4c4",
   "metadata": {},
   "source": [
    "Q2.\tWrite a Python program to find the sum of all items in a dictionary?"
   ]
  },
  {
   "cell_type": "code",
   "execution_count": 45,
   "id": "6bdd45ea",
   "metadata": {},
   "outputs": [
    {
     "name": "stdout",
     "output_type": "stream",
     "text": [
      "sum of all elements of dictonary  is : 59\n"
     ]
    }
   ],
   "source": [
    "#sum of all items  in dictonary\n",
    "def dic_sum(dic):\n",
    "    \n",
    "    try:\n",
    "        addition =0\n",
    "        #iterate in dictionary by items\n",
    "        for items in dic.items():\n",
    "            #iterate into each key and value \n",
    "            for k in items:\n",
    "                #checking if element of dictonary int or not\n",
    "                if type(k) == int:\n",
    "                    #if it integer then add this \n",
    "                    addition += k\n",
    "                #checking the element of dictonary is dictonary \n",
    "                elif type(k)== dict:\n",
    "                    addition+= dic_sum(k)\n",
    "                #checking the element is list\n",
    "                elif type(k) == list:\n",
    "                    for l in k:\n",
    "                        if type(l) == int:\n",
    "                            addition += l\n",
    "                        elif type(l)== dict:\n",
    "                            dic_sum(l)\n",
    "        return addition\n",
    "    except ValueError:\n",
    "        print(ValueError)\n",
    "    except Exception:\n",
    "        print(Exception)\n",
    "    \n",
    "        \n",
    "\n",
    "#take a dictnary which contain different elements\n",
    "d1= {'a':1,'b':3,'c':'prateek','d':[1,2,3,4,'def'],12:'name','f': {'A':12,'B':11,'C':10}}\n",
    "# calling function\n",
    "print('sum of all elements of dictonary  is :',dic_sum(d1))\n",
    "    \n",
    "    "
   ]
  },
  {
   "cell_type": "markdown",
   "id": "56a40640",
   "metadata": {},
   "source": [
    "Q3.\tWrite a Python program to Merging two Dictionaries?"
   ]
  },
  {
   "cell_type": "code",
   "execution_count": 63,
   "id": "961775f6",
   "metadata": {},
   "outputs": [
    {
     "name": "stdout",
     "output_type": "stream",
     "text": [
      "merged dictionary is :  {'a': 1, 'b': 3, 'c': 'prateek', 'd': [1, 2, 3, 4, 'def'], 12: 'name', 'f': {'A': 12, 'B': 11, 'C': 10}, 'name': 'prateek', 'location': 'Guwahati', 'Age': 24, 'profesion': 'Student', 'nickname': 'prateek'}\n"
     ]
    }
   ],
   "source": [
    "#Merge two dictonaries\n",
    "d1= {'a':1,'b':3,'c':'prateek','d':[1,2,3,4,'def'],12:'name','f': {'A':12,'B':11,'C':10}}\n",
    "d2={'name':'prateek','location':'Guwahati','Age':24,'profesion':'Student','nickname':'prateek'}\n",
    "#dic_merge = dict(list(d1.items()) +   list(  d2.items()))\n",
    "#dic_merge.items()\n",
    "c =d1 | d2\n",
    "print('merged dictionary is : ',c)"
   ]
  },
  {
   "cell_type": "markdown",
   "id": "f63f93f0",
   "metadata": {},
   "source": [
    "Q4.\tWrite a Python program to convert key-values list to flat dictionary?"
   ]
  },
  {
   "cell_type": "code",
   "execution_count": 9,
   "id": "0b5bfa76",
   "metadata": {},
   "outputs": [
    {
     "name": "stdout",
     "output_type": "stream",
     "text": [
      "Flat Dictionary :  {'Name': 'prateek', 'age': '24', 'Roll_no': '214103229', 'Gender': 'male', 'college': 'IIT', 'location': 'Guwahati', 'Department': 'Mechanical engineering', 'Course': 'masters'}\n"
     ]
    }
   ],
   "source": [
    "#program to convert key-values list to flat dictionary\n",
    "#give a dictionary which contains list values\n",
    "dict_list = {'details_list':['Name','age','Roll_no','Gender','college','location','Department',\"Course\"],\n",
    "            'details_discreption':['prateek','24','214103229','male','IIT','Guwahati','Mechanical engineering','masters']}\n",
    "#convert dictionary which contains list values into falt dictonaries\n",
    "flat_dict = dict(zip(dict_list['details_list'], dict_list['details_discreption']))\n",
    "print('Flat Dictionary : ',flat_dict)\n"
   ]
  },
  {
   "cell_type": "markdown",
   "id": "9fa8b0e6",
   "metadata": {},
   "source": [
    "Q5.\tWrite a Python program to insertion at the beginning in OrderedDict?"
   ]
  },
  {
   "cell_type": "code",
   "execution_count": 11,
   "id": "849018da",
   "metadata": {},
   "outputs": [
    {
     "name": "stdout",
     "output_type": "stream",
     "text": [
      "Ordered Dictionary is : OrderedDict([('name', 'Prateek Patel'), ('HomeTown', 'Kannauj'), ('Batch', 'FSDS Batch'), ('Programming Language', 'Python')])\n"
     ]
    }
   ],
   "source": [
    "#An OrderedDict is a dictionary subclass that remembers the order that keys were first inserted\n",
    "#import prdered dictionary module\n",
    "from collections import OrderedDict\n",
    "ordered_Dict = OrderedDict()\n",
    "ordered_Dict['name'] = 'Prateek Patel'\n",
    "ordered_Dict['HomeTown'] ='Kannauj'\n",
    "ordered_Dict['Batch'] = 'FSDS Batch'\n",
    "ordered_Dict['Programming Language'] = 'Python'\n",
    "#print ordered dictionary\n",
    "print(f'Ordered Dictionary is : {ordered_Dict}')"
   ]
  },
  {
   "cell_type": "code",
   "execution_count": null,
   "id": "ad28ce90",
   "metadata": {},
   "outputs": [],
   "source": []
  },
  {
   "cell_type": "code",
   "execution_count": null,
   "id": "8ad54605",
   "metadata": {},
   "outputs": [],
   "source": []
  },
  {
   "cell_type": "markdown",
   "id": "09fcfeb0",
   "metadata": {},
   "source": [
    "Q7.\tWrite a Python program to sort Python Dictionaries by Key or Value?"
   ]
  },
  {
   "cell_type": "code",
   "execution_count": null,
   "id": "9cd14560",
   "metadata": {},
   "outputs": [],
   "source": [
    "\n",
    "\n"
   ]
  },
  {
   "cell_type": "code",
   "execution_count": null,
   "id": "590ab6c7",
   "metadata": {},
   "outputs": [],
   "source": []
  }
 ],
 "metadata": {
  "kernelspec": {
   "display_name": "Python 3 (ipykernel)",
   "language": "python",
   "name": "python3"
  },
  "language_info": {
   "codemirror_mode": {
    "name": "ipython",
    "version": 3
   },
   "file_extension": ".py",
   "mimetype": "text/x-python",
   "name": "python",
   "nbconvert_exporter": "python",
   "pygments_lexer": "ipython3",
   "version": "3.9.12"
  }
 },
 "nbformat": 4,
 "nbformat_minor": 5
}
