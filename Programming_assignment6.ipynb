{
 "cells": [
  {
   "cell_type": "markdown",
   "id": "9caea33f",
   "metadata": {},
   "source": [
    "Q1.\tWrite a Python Program to Display Fibonacci Sequence Using Recursion?"
   ]
  },
  {
   "cell_type": "code",
   "execution_count": 5,
   "id": "7b05f7f6",
   "metadata": {},
   "outputs": [
    {
     "name": "stdout",
     "output_type": "stream",
     "text": [
      "enter number of terms of fibonacci sequence\n",
      "23\n",
      "Fibonacci Sequence of 23 terms is:  0 1 1 2 3 5 8 13 21 34 55 89 144 233 377 610 987 1597 2584 4181 6765 10946 17711 "
     ]
    }
   ],
   "source": [
    "#Program to Display Fibonacci Sequence Using Recursion\n",
    "#function of Fibonacci Sequence \n",
    "def fibonacci(n):\n",
    "    if n<=1:\n",
    "        return n\n",
    "    else:\n",
    "        return (fibonacci(n-1)+fibonacci(n-2))\n",
    "\n",
    "#take input for number of terms\n",
    "n_term=int(input(\"enter number of terms of fibonacci sequence\\n\"))\n",
    "if n_term<=0:\n",
    "    print('please enter positive integer')\n",
    "else:\n",
    "    print(f'Fibonacci Sequence of {n_term} terms is: ',end =' ')\n",
    "    for i in range(n_term):\n",
    "        print(fibonacci(i),end =\" \")"
   ]
  },
  {
   "cell_type": "markdown",
   "id": "c998c465",
   "metadata": {},
   "source": [
    "Q2.\tWrite a Python Program to Find Factorial of Number Using Recursion?"
   ]
  },
  {
   "cell_type": "code",
   "execution_count": 11,
   "id": "4272d471",
   "metadata": {},
   "outputs": [
    {
     "name": "stdout",
     "output_type": "stream",
     "text": [
      "input a number: \n",
      "8\n",
      "factorial of 8 is : 40320\n"
     ]
    }
   ],
   "source": [
    "# Recursive function of factorial\n",
    "def rec_fact(n):\n",
    "    if n == 1 or n==0:\n",
    "        return 1\n",
    "    else:\n",
    "        return n*rec_fact(n-1)\n",
    "#take input for finding factorial\n",
    "num = int(input('input a number: \\n'))\n",
    "if num<0:\n",
    "    print('please do not enter negative integer')\n",
    "else:\n",
    "    print(f'factorial of {num} is : ',end='')\n",
    "    print(rec_fact(num))"
   ]
  },
  {
   "cell_type": "markdown",
   "id": "7aa78720",
   "metadata": {},
   "source": [
    "Q3.\tWrite a Python Program to calculate your Body Mass Index?"
   ]
  },
  {
   "cell_type": "code",
   "execution_count": 38,
   "id": "d0484093",
   "metadata": {},
   "outputs": [
    {
     "name": "stdout",
     "output_type": "stream",
     "text": [
      "input mass of body i.e. in kg:\n",
      "65\n",
      "input height of body i.e. in meter:\n",
      "3\n",
      "Body mass index of input is:  7.222222222222222 Kg/m^2\n"
     ]
    }
   ],
   "source": [
    "#Program to calculate your Body Mass Index\n",
    "#Body mass index is (mass of body/square of height of body)\n",
    "#function of BMI\n",
    "def Body_Mass_I(mass,height):\n",
    "    #BMI is variable for body mass index\n",
    "    BMI = mass/(height*height)\n",
    "    return BMI\n",
    "# take input parameters for finding BMI\n",
    "try:\n",
    "    m = int(input('input mass of body i.e. in kg:\\n'))\n",
    "    h = int(input('input height of body i.e. in meter:\\n'))\n",
    "    if m ==0 or h==0:\n",
    "        print('Please enter valid input')\n",
    "    else:\n",
    "        print('Body mass index of input is: ',Body_Mass_I(m,h),'Kg/m^2')\n",
    "except Exception as e:\n",
    "    print('error occured :',e)\n",
    "        \n",
    "\n",
    "     \n",
    "    "
   ]
  },
  {
   "cell_type": "markdown",
   "id": "1fc99b00",
   "metadata": {},
   "source": [
    "Q4.\tWrite a Python Program to calculate the natural logarithm of any number?"
   ]
  },
  {
   "cell_type": "code",
   "execution_count": 52,
   "id": "0428babe",
   "metadata": {},
   "outputs": [
    {
     "name": "stdout",
     "output_type": "stream",
     "text": [
      "Enter a number for natural logarithm:\n",
      " 5\n",
      "Natural logarithm of 5 is 1.6094379124341003\n"
     ]
    }
   ],
   "source": [
    "#Program to calculate the natural logarithm of any number\n",
    "import math                    \n",
    "# take input of number \n",
    "try:\n",
    "    n =int(input('Enter a number for natural logarithm:\\n '))\n",
    "    #use math.log function\n",
    "    nat_log = math.log(n)\n",
    "    print(f'Natural logarithm of {n} is {nat_log}')\n",
    "except ValueError:\n",
    "    print('Error is occured \\n',ValueError)\n",
    "except Exception as e:\n",
    "    print('error is :',e)\n",
    "    \n",
    "   "
   ]
  },
  {
   "cell_type": "markdown",
   "id": "be8d4f70",
   "metadata": {},
   "source": [
    "Q5.\tWrite a Python Program for cube sum of first n natural numbers?"
   ]
  },
  {
   "cell_type": "code",
   "execution_count": 30,
   "id": "fae33e24",
   "metadata": {},
   "outputs": [
    {
     "name": "stdout",
     "output_type": "stream",
     "text": [
      "input number natural numbers: [32,3,2,32,3]\n",
      "(<class 'ValueError'>, ValueError(\"invalid literal for int() with base 10: '[32,3,2,32,3]'\"), <traceback object at 0x000002C161F9CE40>)\n"
     ]
    }
   ],
   "source": [
    "#Function to find sum of cube of n natural numbers\n",
    "import sys\n",
    "def cube_sum(n):\n",
    "    sum_=0                  #initialize sum variable\n",
    "    for i in range(n,0,-1):\n",
    "        sum_ += (i*i*i)     # take sum of cube of each natural number in range(0,n) \n",
    "    return sum_\n",
    "#take input for number of natural numbers\n",
    "try:\n",
    "    num =int(input('input number natural numbers: '))\n",
    "    if num<=0:\n",
    "        print('please input a positive integer\\n')\n",
    "    else:\n",
    "        print(f'sum of cube of {num} natural numbers is: ',cube_sum(num))\n",
    "except Exception :\n",
    "    print(sys.exc_info())\n",
    "\n",
    "        "
   ]
  },
  {
   "cell_type": "code",
   "execution_count": null,
   "id": "c37e0e4d",
   "metadata": {},
   "outputs": [],
   "source": []
  }
 ],
 "metadata": {
  "kernelspec": {
   "display_name": "Python 3 (ipykernel)",
   "language": "python",
   "name": "python3"
  },
  "language_info": {
   "codemirror_mode": {
    "name": "ipython",
    "version": 3
   },
   "file_extension": ".py",
   "mimetype": "text/x-python",
   "name": "python",
   "nbconvert_exporter": "python",
   "pygments_lexer": "ipython3",
   "version": "3.9.12"
  }
 },
 "nbformat": 4,
 "nbformat_minor": 5
}
