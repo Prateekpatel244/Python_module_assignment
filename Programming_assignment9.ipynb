{
 "cells": [
  {
   "cell_type": "markdown",
   "id": "827f586d",
   "metadata": {},
   "source": [
    "Q1.\tWrite a Python program to check if the given number is a Disarium Number?"
   ]
  },
  {
   "cell_type": "code",
   "execution_count": 7,
   "id": "64292590",
   "metadata": {},
   "outputs": [
    {
     "name": "stdout",
     "output_type": "stream",
     "text": [
      "Input a positive number135\n",
      "135 is a Disarium Number\n"
     ]
    }
   ],
   "source": [
    "#program to check whether a number is Disarium Number or not\n",
    "def Disariom_num(num):\n",
    "    #firstly find number of digits in given number\n",
    "    k = len(str(num))\n",
    "    #initialize a vaiable to calculate sum of power of each digit with its power\n",
    "    sum_=0 \n",
    "    temp = num\n",
    "    while(temp>0):\n",
    "        #calculate the digit of given number\n",
    "        rem = (temp % 10)\n",
    "        sum_+=(rem ** k)\n",
    "        temp = (temp // 10)\n",
    "        k=k-1\n",
    "    \n",
    "    if sum_ == num:\n",
    "        return(f'{num} is a Disarium Number')\n",
    "    else:\n",
    "        return(f'{num} is  Not Disarium Number')\n",
    "\n",
    "#input for a number \n",
    "n = int(input('Input a positive number'))\n",
    "if n>0:\n",
    "    #calling function for checking Disarium number\n",
    "    print(Disariom_num(n))\n",
    "else:\n",
    "    print('Input number is not positive integer')\n"
   ]
  },
  {
   "cell_type": "markdown",
   "id": "1e374f9f",
   "metadata": {},
   "source": [
    "Q2.\tWrite a Python program to print all disarium numbers between 1 to 100?"
   ]
  },
  {
   "cell_type": "code",
   "execution_count": 26,
   "id": "feb80eb3",
   "metadata": {},
   "outputs": [
    {
     "name": "stdout",
     "output_type": "stream",
     "text": [
      "Disarium numbers between 1 to 100 are :  1 , 2 , 3 , 4 , 5 , 6 , 7 , 8 , 9 , 89 , "
     ]
    }
   ],
   "source": [
    "#write program for finding Disarium number in range in 1-100\n",
    "def Disariom_num(num):\n",
    "    #firstly find number of digits in given number\n",
    "    k = len(str(num))\n",
    "    #initialize a vaiable to calculate sum of power of each digit with its power\n",
    "    sum_=0 \n",
    "    temp = num\n",
    "    while(temp>0):\n",
    "        #calculate the digit of given number\n",
    "        rem = (temp % 10)\n",
    "        sum_+=(rem ** k)\n",
    "        temp = (temp // 10)\n",
    "        k=k-1\n",
    "    return sum_\n",
    " \n",
    "\n",
    "#giving input to function between 1-100 checking and print the Disarium number\n",
    "print('Disarium numbers between 1 to 100 are : ',end=' ')\n",
    "for i in range(1,101,1):\n",
    "    #calling function for checking Disarium number\n",
    "    if i == Disariom_num(i):\n",
    "        print(i,end=' , ')\n",
    "            \n",
    "\n",
    "    "
   ]
  },
  {
   "cell_type": "markdown",
   "id": "ae8d5a23",
   "metadata": {},
   "source": [
    "Q3.\tWrite a Python program to check if the given number is Happy Number?"
   ]
  },
  {
   "cell_type": "code",
   "execution_count": 1,
   "id": "3f95a577",
   "metadata": {},
   "outputs": [
    {
     "name": "stdout",
     "output_type": "stream",
     "text": [
      "Input a positive number\n",
      "27\n"
     ]
    },
    {
     "data": {
      "text/plain": [
       "'27 is  not a Happy number'"
      ]
     },
     "execution_count": 1,
     "metadata": {},
     "output_type": "execute_result"
    }
   ],
   "source": [
    "#program to check if the given number is Happy Number?\n",
    "def Happy_num(num):\n",
    "    #first temp variable for obtain sum of square of each digit each step utill it become single digit\n",
    "    temp1 = num\n",
    "    #to store all square sum value\n",
    "    num_len=[num]\n",
    "    while temp1 > 1:\n",
    "        #second  temp variable which sum of square of each digit \n",
    "        temp = temp1\n",
    "        #initialize a vaiable to calculate sum of square of each digit \n",
    "        sum_=0 \n",
    "        while(temp>0):\n",
    "            #calculate the digit of given number\n",
    "            rem = (temp % 10)\n",
    "            sum_+=(rem ** 2)\n",
    "            temp = (temp // 10)\n",
    "        temp1 = sum_\n",
    "        if temp1 in num_len :\n",
    "            break\n",
    "        num_len.append(temp1)\n",
    "\n",
    "    if temp1 == 1:\n",
    "        return f'{num} is a Happy number'\n",
    "    else:\n",
    "        return f'{num} is  not a Happy number'\n",
    "#take input a number for checking a happy number\n",
    "n = int(input('Input a positive number\\n'))\n",
    "#calling function to check number is happy number or not\n",
    "Happy_num(n)"
   ]
  },
  {
   "cell_type": "markdown",
   "id": "f6087124",
   "metadata": {},
   "source": [
    "Q4.\tWrite a Python program to print all happy numbers between 1 and 100?"
   ]
  },
  {
   "cell_type": "code",
   "execution_count": 2,
   "id": "8fe03f30",
   "metadata": {},
   "outputs": [
    {
     "name": "stdout",
     "output_type": "stream",
     "text": [
      "Happy numbers between 1 to 100 are :  1 , 7 , 10 , 13 , 19 , 23 , 28 , 31 , 32 , 44 , 49 , 68 , 70 , 79 , 82 , 86 , 91 , 94 , 97 , 100 , "
     ]
    }
   ],
   "source": [
    "#print all happy numbers between 1 and 100\n",
    "def Happy_num(num):\n",
    "    #first temp variable for obtain sum of square of each digit each step utill it become single digit\n",
    "    temp1 = num\n",
    "    num_len=[num]\n",
    "    while temp1 >1:\n",
    "        #second  temp variable which sum of square of each digit \n",
    "        temp = temp1\n",
    "        #initialize a vaiable to calculate sum of square of each digit \n",
    "        sum_=0 \n",
    "        while(temp>0):\n",
    "            #calculate the digit of given number\n",
    "            rem = (temp % 10)\n",
    "            sum_+=(rem ** 2)\n",
    "            temp = (temp // 10)\n",
    "        temp1 = sum_\n",
    "        if temp1 in num_len :\n",
    "            break\n",
    "        num_len.append(temp1)\n",
    "    return temp1\n",
    "\n",
    "#giving input to function between 1-100 checking and print the Happy number\n",
    "print('Happy numbers between 1 to 100 are : ',end=' ')\n",
    "for i in range(1,101,1):\n",
    "    #calling function for checking Happy number\n",
    "    if  Happy_num(i) == 1:\n",
    "        print(i,end=' , ')\n",
    "            "
   ]
  },
  {
   "cell_type": "markdown",
   "id": "e58cf841",
   "metadata": {},
   "source": [
    "Q5.\tWrite a Python program to determine whether the given number is a Harshad Number?"
   ]
  },
  {
   "cell_type": "code",
   "execution_count": 7,
   "id": "1ca0ccab",
   "metadata": {},
   "outputs": [
    {
     "name": "stdout",
     "output_type": "stream",
     "text": [
      "Input a positive integer to check harshad number\n",
      "18\n"
     ]
    },
    {
     "data": {
      "text/plain": [
       "'18 is a Harshad Number'"
      ]
     },
     "execution_count": 7,
     "metadata": {},
     "output_type": "execute_result"
    }
   ],
   "source": [
    "#program to check whether the given number is a Harshad Number\n",
    "def Check_harshad(num):\n",
    "    #number if harshad number if it is divisible by sum of its digit\n",
    "    sum_=0\n",
    "    temp=num\n",
    "    while temp>0:\n",
    "        rem = temp%10\n",
    "        sum_ += rem\n",
    "        temp = temp//10\n",
    "    if (num % sum_) == 0:\n",
    "        return (f'{num} is a Harshad Number')\n",
    "    else:\n",
    "        return (f'{num} is not a Harshad Number')\n",
    "    \n",
    "n = int(input('Input a positive integer to check harshad number\\n'))\n",
    "Check_harshad(n)\n",
    "\n",
    "    \n",
    "        \n",
    "    "
   ]
  },
  {
   "cell_type": "markdown",
   "id": "9be8bd31",
   "metadata": {},
   "source": [
    "Q6.\tWrite a Python program to print all pronic numbers between 1 and 100?"
   ]
  },
  {
   "cell_type": "code",
   "execution_count": 17,
   "id": "8268a576",
   "metadata": {},
   "outputs": [
    {
     "name": "stdout",
     "output_type": "stream",
     "text": [
      "Pronic numbers between 1 and 100 are : 0 , 2 , 6 , 12 , 20 , 30 , 42 , 56 , 72 , 90 , "
     ]
    }
   ],
   "source": [
    "#Pronic number is a number which is the product of two consecutive integers\n",
    "def Check_pronic(num):\n",
    "    if num ==0:\n",
    "        return True\n",
    "    \n",
    "    for i in range(1,num+1):\n",
    "        if (i*(i+1))==num:\n",
    "            return True\n",
    "        \n",
    "    else:\n",
    "        return False\n",
    "#pronic numbers between 1 and 100\n",
    "print('Pronic numbers between 1 and 100 are : ',end = '')\n",
    "min = 0\n",
    "max = 100\n",
    "Range = min +max +1\n",
    "for k in range(Range):\n",
    "    if Check_pronic(k):\n",
    "        print(k, end=\" , \")\n",
    "                "
   ]
  },
  {
   "cell_type": "code",
   "execution_count": 12,
   "id": "e1de342e",
   "metadata": {},
   "outputs": [],
   "source": []
  },
  {
   "cell_type": "code",
   "execution_count": null,
   "id": "d6be4e99",
   "metadata": {},
   "outputs": [],
   "source": []
  }
 ],
 "metadata": {
  "kernelspec": {
   "display_name": "Python 3 (ipykernel)",
   "language": "python",
   "name": "python3"
  },
  "language_info": {
   "codemirror_mode": {
    "name": "ipython",
    "version": 3
   },
   "file_extension": ".py",
   "mimetype": "text/x-python",
   "name": "python",
   "nbconvert_exporter": "python",
   "pygments_lexer": "ipython3",
   "version": "3.9.12"
  }
 },
 "nbformat": 4,
 "nbformat_minor": 5
}
