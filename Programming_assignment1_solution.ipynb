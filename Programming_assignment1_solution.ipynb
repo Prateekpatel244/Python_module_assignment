{
 "cells": [
  {
   "cell_type": "markdown",
   "id": "d6371452",
   "metadata": {},
   "source": [
    " Q1. Write a Python program to print \"Hello Python\"?"
   ]
  },
  {
   "cell_type": "code",
   "execution_count": 1,
   "id": "a0208878",
   "metadata": {},
   "outputs": [
    {
     "name": "stdout",
     "output_type": "stream",
     "text": [
      "Hello Python\n"
     ]
    }
   ],
   "source": [
    "#print Hello Python\n",
    "print(\"Hello Python\")"
   ]
  },
  {
   "cell_type": "markdown",
   "id": "f48a03bd",
   "metadata": {},
   "source": [
    "Q2.\tWrite a Python program to do arithmetical operations addition and division.?"
   ]
  },
  {
   "cell_type": "code",
   "execution_count": 2,
   "id": "0b0c9be5",
   "metadata": {},
   "outputs": [
    {
     "name": "stdout",
     "output_type": "stream",
     "text": [
      "Enter integer value of a\n",
      "4\n",
      "Enter integer value of b\n",
      "-7\n",
      "Addition of input number is  -3\n",
      "Enter a Dividend value\n",
      "77\n",
      "Enter a Divisor value\n",
      "11\n",
      "Answer of division operation is  7.0\n"
     ]
    }
   ],
   "source": [
    "#program to do Arthmetical operation addition and division\n",
    "#take input of two integer\n",
    "a = int(input(\"Enter integer value of a\\n\"))\n",
    "b = int(input(\"Enter integer value of b\\n\"))\n",
    "#addition of input value\n",
    "addition = a+b\n",
    "print(\"Addition of input number is \",addition)\n",
    "\n",
    "c = int(input(\"Enter a Dividend value\\n\"))\n",
    "d = int(input(\"Enter a Divisor value\\n\"))\n",
    "#Division operation\n",
    "x = c/d\n",
    "print(\"Answer of division operation is \",x)"
   ]
  },
  {
   "cell_type": "markdown",
   "id": "e8f51bae",
   "metadata": {},
   "source": [
    "Q3.\tWrite a Python program to find the area of a triangle?"
   ]
  },
  {
   "cell_type": "code",
   "execution_count": 3,
   "id": "7ba806b1",
   "metadata": {},
   "outputs": [
    {
     "name": "stdout",
     "output_type": "stream",
     "text": [
      "Enter a sides of a triangle\n",
      "33\n",
      "Enter b sides of a triangle\n",
      "40\n",
      "Enter c sides of a triangle\n",
      "36\n",
      "Area of triangle is  560.6442165045494\n"
     ]
    }
   ],
   "source": [
    "#Program to find area of a triangle by sides\n",
    "import math\n",
    "a = int(input('Enter a sides of a triangle\\n'))  #take input of triangle sides\n",
    "b = int(input('Enter b sides of a triangle\\n')) \n",
    "c = int(input('Enter c sides of a triangle\\n')) \n",
    "s = (a+b+c)/2                                  # Semiperimeter\n",
    "area = math.sqrt(s*(s-a)*(s-b)*(s-c))          #Area of Triangle\n",
    "print(\"Area of triangle is \",area)"
   ]
  },
  {
   "cell_type": "markdown",
   "id": "68799403",
   "metadata": {},
   "source": [
    "Q4.\tWrite a Python program to swap two variables?"
   ]
  },
  {
   "cell_type": "code",
   "execution_count": 4,
   "id": "21ffd940",
   "metadata": {},
   "outputs": [
    {
     "name": "stdout",
     "output_type": "stream",
     "text": [
      "Enter a variable a\n",
      "23\n",
      "Enter a variable b\n",
      "56\n",
      "Variable after swaping a and b are\n",
      " 56 23\n"
     ]
    }
   ],
   "source": [
    "#Program to swap to variables using swap variable\n",
    "a = input(\"Enter a variable a\\n\")\n",
    "b = input(\"Enter a variable b\\n\")\n",
    "#We can do typecasting if want swaping in different data type\n",
    "swap = a                           #Swap variable\n",
    "a = b\n",
    "b = swap\n",
    "print(\"Variable after swaping a and b are\\n\",a,b)"
   ]
  },
  {
   "cell_type": "markdown",
   "id": "2d0187b9",
   "metadata": {},
   "source": [
    "Q5. Write a Python program to generate a random number?"
   ]
  },
  {
   "cell_type": "code",
   "execution_count": 6,
   "id": "a633c296",
   "metadata": {},
   "outputs": [
    {
     "name": "stdout",
     "output_type": "stream",
     "text": [
      "Enter minimum number limit\n",
      "33\n",
      "Enter maximum number limit\n",
      "89\n",
      "Generated random number is  55\n"
     ]
    }
   ],
   "source": [
    "#generate random number\n",
    "import random\n",
    "#take input of range of random number\n",
    "a = int(input(\"Enter minimum number limit\\n\"))\n",
    "b = int(input(\"Enter maximum number limit\\n\"))\n",
    "c = random.randrange(a,b)\n",
    "print(\"Generated random number is \",c)"
   ]
  }
 ],
 "metadata": {
  "kernelspec": {
   "display_name": "Python 3 (ipykernel)",
   "language": "python",
   "name": "python3"
  },
  "language_info": {
   "codemirror_mode": {
    "name": "ipython",
    "version": 3
   },
   "file_extension": ".py",
   "mimetype": "text/x-python",
   "name": "python",
   "nbconvert_exporter": "python",
   "pygments_lexer": "ipython3",
   "version": "3.9.12"
  }
 },
 "nbformat": 4,
 "nbformat_minor": 5
}
