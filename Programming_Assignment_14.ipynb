{
 "cells": [
  {
   "cell_type": "markdown",
   "id": "9aedc061",
   "metadata": {},
   "source": [
    "# Question 1:\n",
    "\n",
    "Define a class with a generator which can iterate the numbers, which are divisible by 7, between a given range 0 and n.\n"
   ]
  },
  {
   "cell_type": "code",
   "execution_count": 11,
   "id": "ad744d35",
   "metadata": {},
   "outputs": [
    {
     "name": "stdout",
     "output_type": "stream",
     "text": [
      "Numbers divisible by 7 between a given range 0 and 100 : 0 , 7 , 14 , 21 , 28 , 35 , 42 , 49 , 56 , 63 , 70 , 77 , 84 , 91 , 98 , "
     ]
    }
   ],
   "source": [
    "#setup for logging\n",
    "import logging\n",
    "logging.basicConfig(filename= 'assignment_14.log',level = logging.DEBUG,\n",
    "                    format= '%(asctime)s : %(name)s : %(levelname)s : %(message)s')\n",
    "# define a class with a generator\n",
    "class Arthmatic:\n",
    "    def division(self,N):\n",
    "        logging.info('enter into division function')\n",
    "        logging.info(f'range of number is {0} - {N}')\n",
    "        try:\n",
    "            for i in range(N+1):\n",
    "                if i %7 == 0:\n",
    "                    yield i\n",
    "        except Excption as e:\n",
    "            logging.exception(e)\n",
    "logging.info('\\n\\t++++++++++++++++++++++++++++++++++++++++++++++++++++++\\t')\n",
    "logging.info('Program of Question 1 of Assignment 2 is start from here')\n",
    "divi = Arthmatic()\n",
    "#input the range of number \n",
    "#n = int(input('Input a number which is upper limit of range : '))\n",
    "n = 100\n",
    "print(f'Numbers divisible by 7 between a given range 0 and {n} : ',end ='')\n",
    "for i in divi.division(n) :\n",
    "    print(i,end =' , ')\n",
    "logging.shutdown()\n",
    "    \n",
    "            \n",
    "                \n",
    "        "
   ]
  },
  {
   "cell_type": "markdown",
   "id": "4c0d8583",
   "metadata": {},
   "source": [
    "# Question 2:\n",
    "Write a program to compute the frequency of the words from the input. The output should output after sorting the key alphanumerically. \n"
   ]
  },
  {
   "cell_type": "code",
   "execution_count": 12,
   "id": "475779ba",
   "metadata": {},
   "outputs": [
    {
     "name": "stdout",
     "output_type": "stream",
     "text": [
      "Words\tFrequency\n",
      "2 \t: 2\n",
      "3 \t: 1\n",
      "3? \t: 1\n",
      "New \t: 1\n",
      "Python \t: 5\n",
      "Read \t: 1\n",
      "and \t: 1\n",
      "between \t: 1\n",
      "choosing \t: 1\n",
      "or \t: 2\n",
      "to \t: 1\n"
     ]
    }
   ],
   "source": [
    "#setup for logging\n",
    "import logging\n",
    "logging.basicConfig(filename= 'assignment_14.log',level = logging.DEBUG,\n",
    "                    format= '%(asctime)s : %(name)s : %(levelname)s : %(message)s')\n",
    "#class for string operation\n",
    "class string:\n",
    "    def __init__(self,st):\n",
    "        logging.info('enter into string class constructer ')\n",
    "        #string storing variable\n",
    "        self.string= st\n",
    "        \n",
    "    #function to find dictonaary of words with its frequency\n",
    "    def word_fre(self):\n",
    "        '''\n",
    "         function to find dictonary of words with keys as words and vlaue its frequency into a string\n",
    "        '''\n",
    "        try:\n",
    "            logging.info('enter into word_fre function to calculate frequency of words in a string')\n",
    "            #split strinf of words into list\n",
    "            lst_str = self.string.split()\n",
    "            #initiating a dictonary to store word as key and frequency as value\n",
    "            dic_str = {}\n",
    "            for word in lst_str:\n",
    "                if word not in dic_str:\n",
    "                    #variable to calculate to store frequency of word\n",
    "                    freq = 0\n",
    "                    for i in lst_str:\n",
    "                        if i == word:\n",
    "                            freq +=1\n",
    "                    #store word and freq in dictonary\n",
    "                    dic_str[word] = freq\n",
    "            logging.info('division function is completed and return a dictionary ')\n",
    "            return dic_str\n",
    "        except Exception as e:\n",
    "            logging.error(e)\n",
    "    #function to sort the dictionary\n",
    "    def sort_dic(self):\n",
    "        '''\n",
    "         Fuction is use to sort the dictionary\n",
    "        '''\n",
    "        try:\n",
    "            logging.info('enter into sort_dic function')\n",
    "            from collections import OrderedDict\n",
    "            #call the function word frequency which return a dictionary\n",
    "            word_dic = self.word_fre()\n",
    "            #sorting dictionary\n",
    "            sort_worddic = OrderedDict(sorted(word_dic.items()))\n",
    "            #return sorted dictionary\n",
    "            logging.info('sort_dic function is finished and return sorted dictionary ')\n",
    "            return sort_worddic\n",
    "        except Exception as e:\n",
    "            logging.error(e)\n",
    "\n",
    "#define Object of class\n",
    "logging.info('\\n\\t++++++++++++++++++++++++++++++++++++++++++++++++++++++\\t')\n",
    "logging.info('Program of Question 2 of Assignment 2 is start from here')\n",
    "#strng = input('enter a string of words')\n",
    "strng = 'New to Python or choosing between Python 2 and Python 3? Read Python 2 or Python 3'\n",
    "\n",
    "s1 = string(strng)\n",
    "try:\n",
    "    sorted_word_dic = s1.sort_dic()\n",
    "    #print word and frequency\n",
    "    print('Words' + '\\t'+'Frequency')\n",
    "    for j in sorted_word_dic.items():\n",
    "        print(j[0],'\\t:',j[1])\n",
    "        \n",
    "except Exception as e:\n",
    "    logging.error(e)\n",
    "        \n",
    "        \n",
    "            \n",
    "        \n",
    "        \n"
   ]
  },
  {
   "cell_type": "markdown",
   "id": "f65c14eb",
   "metadata": {},
   "source": [
    "# Question 3:\n",
    "\n",
    "\n",
    "\n",
    "Define a class Person and its two child classes: Male and Female. All classes have a method \"getGender\" which can print \"Male\" for Male class and \"Female\" for Female class.\n",
    "\n",
    "    "
   ]
  },
  {
   "cell_type": "code",
   "execution_count": 16,
   "id": "fd62ddde",
   "metadata": {},
   "outputs": [
    {
     "name": "stdout",
     "output_type": "stream",
     "text": [
      "Male\n",
      "Female\n"
     ]
    }
   ],
   "source": [
    "#setup for logging\n",
    "import logging\n",
    "logging.basicConfig(filename= 'assignment_14.log',level = logging.DEBUG,\n",
    "                    format= '%(asctime)s : %(name)s : %(levelname)s : %(message)s')\n",
    "#define a Parent class\n",
    "class Person :\n",
    "    logging.info('We are in Person class')\n",
    "    def getGender(self):\n",
    "        pass\n",
    "\n",
    "#define child classes of male and female\n",
    "class Male(Person):\n",
    "    logging.info('We are in Male class')\n",
    "    def getGender(self):\n",
    "        return \"Male\"\n",
    "class Female(Person):\n",
    "    logging.info('We are in Female class')\n",
    "    def getGender(self):\n",
    "        return \"Female\"\n",
    "\n",
    "logging.info('\\n\\t++++++++++++++++++++++++++++++++++++++++++++++++++++++\\t')\n",
    "logging.info('Program of Question 3 of Assignment 2 is start from here')\n",
    "try:\n",
    "    gend1 = Male()\n",
    "    gend2 = Female()\n",
    "    print(gend1.getGender())\n",
    "    print(gend2.getGender())\n",
    "except Exception as e:\n",
    "    logging.error(e)\n",
    "\n",
    "    \n",
    "    \n"
   ]
  },
  {
   "cell_type": "markdown",
   "id": "6af4890b",
   "metadata": {},
   "source": [
    "# Question 4:\n",
    "Please write a program to generate all sentences where subject is in [\"I\", \"You\"] and verb is in [\"Play\", \"Love\"] and the object is in [\"Hockey\",\"Football\"].\n"
   ]
  },
  {
   "cell_type": "code",
   "execution_count": 25,
   "id": "51789f98",
   "metadata": {},
   "outputs": [
    {
     "name": "stdout",
     "output_type": "stream",
     "text": [
      "I  Play  Hockey\n",
      "I  Play  Football\n",
      "I  Love  Hockey\n",
      "I  Love  Football\n",
      "You  Play  Hockey\n",
      "You  Play  Football\n",
      "You  Love  Hockey\n",
      "You  Love  Football\n"
     ]
    }
   ],
   "source": [
    "#write a program to generate all sentences where subject is in [\"I\", \"You\"] and\n",
    "#verb is in [\"Play\", \"Love\"] and the object is in [\"Hockey\",\"Football\"]\n",
    "import logging\n",
    "logging.basicConfig(filename= 'assignment_14.log',level = logging.DEBUG,\n",
    "                    format= '%(asctime)s : %(name)s : %(levelname)s : %(message)s')\n",
    "try:\n",
    "    logging.info('Program of question 4 is started')\n",
    "    subjects=[\"I\", \"You\"]\n",
    "    verbs=[\"Play\", \"Love\"]\n",
    "    objects=[\"Hockey\",\"Football\"]\n",
    "    for sub in subjects:\n",
    "        for verb in verbs:\n",
    "            for obj in objects:\n",
    "                print(f\"{sub}  {verb}  {obj}\")\n",
    "    logging.info('program finished')\n",
    "    logging.shutdown()\n",
    "except Exception as e:\n",
    "    logging.error(e)\n",
    "    logging.shutdown()"
   ]
  },
  {
   "cell_type": "markdown",
   "id": "b7627cec",
   "metadata": {},
   "source": [
    "# Question 5:\n",
    "Please write a program to compress and decompress the string \"hello world!hello world!hello world!hello world!\".\n"
   ]
  },
  {
   "cell_type": "code",
   "execution_count": 26,
   "id": "347bd797",
   "metadata": {},
   "outputs": [
    {
     "name": "stdout",
     "output_type": "stream",
     "text": [
      "Compressed string is :  b'x\\x9c\\xcbH\\xcd\\xc9\\xc9W(\\xcf/\\xcaIQ\\xcc \\x82\\r\\x00\\xbd[\\x11\\xf5'\n",
      "\n",
      "Decompressed string is :  b'hello world!hello world!hello world!hello world!'\n"
     ]
    }
   ],
   "source": [
    "import logging\n",
    "logging.basicConfig(filename= 'assignment_14.log',level = logging.DEBUG,\n",
    "                    format= '%(asctime)s : %(name)s : %(levelname)s : %(message)s')\n",
    "#import zlib module\n",
    "try:\n",
    "    import zlib\n",
    "    logging.info('Program of question 5 is started')\n",
    "    string=\"hello world!hello world!hello world!hello world!\"\n",
    "    comp_string= zlib.compress(string.encode())\n",
    "    print(\"Compressed string is : \", comp_string)\n",
    "    decomp_string=zlib.decompress(comp_string)\n",
    "    print(\"\\nDecompressed string is : \", decomp_string)\n",
    "    logging.info('program finished')\n",
    "    logging.shutdown()\n",
    "\n",
    "except Exception as e:\n",
    "    logging.error(e)\n",
    "    logging.shutdown()"
   ]
  },
  {
   "cell_type": "markdown",
   "id": "395fbcf2",
   "metadata": {},
   "source": [
    "# Question 6:\n",
    "\n",
    "Please write a binary search function which searches an item in a sorted list. The function should return the index of element to be searched in the list.\n"
   ]
  },
  {
   "cell_type": "code",
   "execution_count": 28,
   "id": "81811c1b",
   "metadata": {},
   "outputs": [
    {
     "name": "stdout",
     "output_type": "stream",
     "text": [
      "Element 6 is present at index 4  \n"
     ]
    }
   ],
   "source": [
    "import logging\n",
    "logging.basicConfig(filename= 'assignment_14.log',level = logging.DEBUG,\n",
    "                    format= '%(asctime)s : %(name)s : %(levelname)s : %(message)s')\n",
    "\n",
    "    #arr is sorted list,x is element to be searched low is list lowest index and high is list highest index\n",
    "def Binary_search(arr, x, low =0, high=None):\n",
    "    '''Binary_search function return the index of element to be searched in the sorted list\n",
    "    Arguments:\n",
    "    arr : list , sorted list        x : is a element to be searched\n",
    "    low : is lowest index from where you want to search\n",
    "    high : highest value of index upto which you want to search'''\n",
    "    \n",
    "    logging.info('Binary_search function is initiated')\n",
    "    if high ==None:\n",
    "        high = len(arr)-1\n",
    "    if high >= low:\n",
    "        mid = low + (high - low)//2\n",
    "        \n",
    "        if arr[mid] == x:\n",
    "            return mid\n",
    "        elif arr[mid] > x:\n",
    "             return Binary_search(arr,x,low,mid-1)\n",
    "        else:\n",
    "            return Binary_search(arr,x,mid+1,high)\n",
    "            \n",
    "    else :\n",
    "         return \"Not Found \"\n",
    "\n",
    "try:\n",
    "    logging.info('Program of question 6 is started')\n",
    "    #now check function is working or not\n",
    "    array = [1,23,4,5,6]\n",
    "    x = 6\n",
    "    element_index = Binary_search(array,x,0,len(array)-1)\n",
    "    print(f\"Element {x} is present at index {element_index}  \")\n",
    "    logging.info('program finished')\n",
    "    logging.shutdown()\n",
    "except Exception as e:\n",
    "    logging.error(e)\n",
    "    logging.shutdown()\n",
    "            \n",
    "        \n",
    "            \n",
    "                "
   ]
  },
  {
   "cell_type": "code",
   "execution_count": null,
   "id": "aacd8508",
   "metadata": {},
   "outputs": [],
   "source": []
  }
 ],
 "metadata": {
  "kernelspec": {
   "display_name": "Python 3 (ipykernel)",
   "language": "python",
   "name": "python3"
  },
  "language_info": {
   "codemirror_mode": {
    "name": "ipython",
    "version": 3
   },
   "file_extension": ".py",
   "mimetype": "text/x-python",
   "name": "python",
   "nbconvert_exporter": "python",
   "pygments_lexer": "ipython3",
   "version": "3.9.12"
  }
 },
 "nbformat": 4,
 "nbformat_minor": 5
}
