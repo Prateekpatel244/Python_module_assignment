{
 "cells": [
  {
   "cell_type": "markdown",
   "id": "f2abc91d",
   "metadata": {},
   "source": [
    "# Question 1. Create a function that takes a list of non-negative integers and strings and return a new list without the strings.\n",
    "\n",
    "Examples\n",
    "\n",
    "filter_list([1, 2, \"a\", \"b\"]) ➞ [1, 2]\n",
    "\n",
    "filter_list([1, \"a\", \"b\", 0, 15]) ➞ [1, 0, 15]\n",
    "\n",
    "filter_list([1, 2, \"aasf\", \"1\", \"123\", 123]) ➞ [1, 2, 123]\n"
   ]
  },
  {
   "cell_type": "code",
   "execution_count": 1,
   "id": "2c77c473",
   "metadata": {},
   "outputs": [
    {
     "name": "stdout",
     "output_type": "stream",
     "text": [
      "[1, 2]\n",
      "[1, 0, 15]\n",
      "[1, 2, 123]\n"
     ]
    }
   ],
   "source": [
    "def filter_list(list_):\n",
    "    try:\n",
    "        final_list=[]\n",
    "        for i in list_:\n",
    "            if type(i)==int:\n",
    "                final_list.append(i)\n",
    "            elif type(i)==list:\n",
    "                filter_list(i)\n",
    "        return final_list\n",
    "    except Exception as e:\n",
    "        print(e)\n",
    "print(filter_list([1, 2, \"a\", \"b\"]))\n",
    "print(filter_list([1, \"a\", \"b\", 0, 15]))\n",
    "print(filter_list([1, 2, \"aasf\", \"1\", \"123\", 123]))"
   ]
  },
  {
   "cell_type": "markdown",
   "id": "1c99df49",
   "metadata": {},
   "source": [
    "# Question 2. The \"Reverser\" takes a string as input and returns that string in reverse order, with the opposite case.\n",
    "\n",
    "Examples\n",
    "\n",
    "reverse(\"Hello World\") ➞ \"DLROw OLLEh\"\n",
    "\n",
    "reverse(\"ReVeRsE\") ➞ \"eSrEvEr\"\n",
    "\n",
    "reverse(\"Radar\") ➞ \"RADAr\"\n"
   ]
  },
  {
   "cell_type": "code",
   "execution_count": 2,
   "id": "6a12676c",
   "metadata": {},
   "outputs": [
    {
     "name": "stdout",
     "output_type": "stream",
     "text": [
      "DLROw OLLEh\n",
      "eSrEvEr\n",
      "RADAr\n",
      "LETAp KEETARp\n"
     ]
    }
   ],
   "source": [
    "def reverse(string):\n",
    "    '''\n",
    "    Function is return reversed string with opposite case\n",
    "    string: str,  string '''\n",
    "    try:\n",
    "        string=string[::-1]\n",
    "        return string.swapcase()\n",
    "    except Exception as e:\n",
    "        print(e)\n",
    "print(reverse(\"Hello World\"))\n",
    "print(reverse(\"ReVeRsE\"))\n",
    "print(reverse(\"Radar\"))\n",
    "print(reverse('Prateek Patel'))"
   ]
  },
  {
   "cell_type": "markdown",
   "id": "0d4818bd",
   "metadata": {},
   "source": [
    "# Question 3\n",
    "\n",
    "You can assign variables from lists like this:\n",
    "\n",
    "lst = [1, 2, 3, 4, 5, 6]\n",
    ", first = lst[0]\n",
    ", middle = lst[1:-1]\n",
    ", last = lst[-1]\n",
    "\n",
    "print(first) ➞ outputs 1\n",
    "\n",
    "print(middle) ➞ outputs [2, 3, 4, 5]\n",
    "\n",
    "print(last) ➞ outputs 6\n",
    "\n",
    "With Python 3, you can assign variables from lists in a much more succinct way. Create variables first, middle and last from the given list using destructuring assignment (check the Resources tab for some examples), where:\n",
    "\n",
    "first  ➞ 1\n",
    "\n",
    "middle ➞ [2, 3, 4, 5]\n",
    "\n",
    "last ➞ 6\n",
    "\n",
    "Your task is to unpack the list writeyourcodehere into three variables, being first, middle, and last, with middle being everything in between the first and last element. Then print all three variables.\n"
   ]
  },
  {
   "cell_type": "code",
   "execution_count": 3,
   "id": "b3bcfd0d",
   "metadata": {},
   "outputs": [
    {
     "name": "stdout",
     "output_type": "stream",
     "text": [
      "1\n",
      "[2, 3, 4, 5]\n",
      "6\n"
     ]
    }
   ],
   "source": [
    "lst=[1,2,3,4,5,6]\n",
    "first=lst[0]\n",
    "middle=lst[1:-1]\n",
    "last=lst[-1]\n",
    "print(first,middle,last,sep=\"\\n\")"
   ]
  },
  {
   "cell_type": "markdown",
   "id": "9b0490fd",
   "metadata": {},
   "source": [
    "# Question 4. Write a function that calculates the factorial of a number recursively.\n",
    "\n",
    "Examples :\n",
    "\n",
    "factorial(5) ➞ 120\n",
    "\n",
    "factorial(3) ➞ 6\n",
    "\n",
    "factorial(1) ➞ 1\n",
    "\n",
    "factorial(0) ➞ 1\n"
   ]
  },
  {
   "cell_type": "code",
   "execution_count": 4,
   "id": "839d59ef",
   "metadata": {},
   "outputs": [
    {
     "name": "stdout",
     "output_type": "stream",
     "text": [
      "enter number: 5\n",
      "factorial(5) 120\n",
      "enter number: 3\n",
      "factorial(3) 6\n",
      "enter number: 1\n",
      "factorial(1) 1\n",
      "enter number: 0\n",
      "factorial(0) 1\n"
     ]
    }
   ],
   "source": [
    "def factorial(num):\n",
    "    '''\n",
    "     Function that calculates the factorial of a number recursively\n",
    "     \n",
    "     num: int, number which you want to calculate factorial\n",
    "    '''\n",
    "    try:\n",
    "        if num>=0:\n",
    "            if num ==0:\n",
    "                return 1\n",
    "            elif num ==1:\n",
    "                return 1\n",
    "            else:\n",
    "                return num*factorial(num-1)\n",
    "        else:\n",
    "            return 'num is a neagative number'\n",
    "    except Exception as e:\n",
    "        print(e)\n",
    "n=int(input('enter number: '))\n",
    "print(f'factorial({n})',factorial(n))\n",
    "n=int(input('enter number: '))\n",
    "print(f'factorial({n})',factorial(n))\n",
    "n=int(input('enter number: '))\n",
    "print(f'factorial({n})',factorial(n))\n",
    "n=int(input('enter number: '))\n",
    "print(f'factorial({n})',factorial(n))\n",
    "    "
   ]
  },
  {
   "cell_type": "markdown",
   "id": "2015d89e",
   "metadata": {},
   "source": [
    "# Question 5. Write a function that moves all elements of one type to the end of the list.\n",
    "\n",
    "Examples\n",
    "\n",
    "move_to_end([1, 3, 2, 4, 4, 1], 1) ➞ [3, 2, 4, 4, 1, 1]\n",
    "\n",
    " Move all the 1s to the end of the array.\n",
    "\n",
    "move_to_end([7, 8, 9, 1, 2, 3, 4], 9) ➞ [7, 8, 1, 2, 3, 4, 9]\n",
    "\n",
    "move_to_end([\"a\", \"a\", \"a\", \"b\"], \"a\") ➞ [\"b\", \"a\", \"a\", \"a\"]\n"
   ]
  },
  {
   "cell_type": "code",
   "execution_count": 5,
   "id": "645b5f95",
   "metadata": {},
   "outputs": [
    {
     "name": "stdout",
     "output_type": "stream",
     "text": [
      "[7, 8, 1, 2, 3, 4, 9]\n",
      "[3, 2, 4, 4, 1, 1]\n",
      "['b', 'a', 'a', 'a']\n"
     ]
    }
   ],
   "source": [
    "def move_to_end(List,element):\n",
    "    '''\n",
    "    function that moves all elements of one type to the end of the list\n",
    "    '''\n",
    "    try:\n",
    "        for i in List:\n",
    "            if i==element:\n",
    "                List.append(i)\n",
    "                del List[List.index(i)]\n",
    "        return List\n",
    "    except Exception as e:\n",
    "        print(e)\n",
    "\n",
    "print(move_to_end([7, 8, 9, 1, 2, 3, 4], 9))\n",
    "print(move_to_end([1, 3, 2, 4, 4, 1], 1))\n",
    "print(move_to_end([\"a\", \"a\", \"a\", \"b\"], \"a\"))"
   ]
  },
  {
   "cell_type": "code",
   "execution_count": null,
   "id": "eed940b2",
   "metadata": {},
   "outputs": [],
   "source": []
  },
  {
   "cell_type": "code",
   "execution_count": null,
   "id": "8c25a7ec",
   "metadata": {},
   "outputs": [],
   "source": []
  }
 ],
 "metadata": {
  "kernelspec": {
   "display_name": "Python 3 (ipykernel)",
   "language": "python",
   "name": "python3"
  },
  "language_info": {
   "codemirror_mode": {
    "name": "ipython",
    "version": 3
   },
   "file_extension": ".py",
   "mimetype": "text/x-python",
   "name": "python",
   "nbconvert_exporter": "python",
   "pygments_lexer": "ipython3",
   "version": "3.9.12"
  }
 },
 "nbformat": 4,
 "nbformat_minor": 5
}
